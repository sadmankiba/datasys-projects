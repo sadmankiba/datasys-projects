{
 "cells": [
  {
   "cell_type": "code",
   "execution_count": 1,
   "id": "8af679b0-f863-4acb-992a-1c594f398760",
   "metadata": {},
   "outputs": [],
   "source": [
    "from google.cloud import bigquery\n",
    "\n",
    "# Construct a BigQuery client object.\n",
    "bq = bigquery.Client()\n",
    "job_config = bigquery.QueryJobConfig(use_query_cache=False)"
   ]
  },
  {
   "cell_type": "markdown",
   "id": "a50f96ff",
   "metadata": {},
   "source": [
    "### Part 1 (County Dataset)"
   ]
  },
  {
   "cell_type": "code",
   "execution_count": 2,
   "id": "6d85976d-95c4-40be-87a5-f2fbb1bb765b",
   "metadata": {},
   "outputs": [
    {
     "data": {
      "text/plain": [
       "'55025'"
      ]
     },
     "execution_count": 2,
     "metadata": {},
     "output_type": "execute_result"
    }
   ],
   "source": [
    "#q1 : what is the `geo_id` for Dane county?\n",
    "q1 = bq.query(\n",
    "\"\"\"\n",
    "select geo_id from bigquery-public-data.geo_us_boundaries.counties\n",
    "where county_name='Dane'\n",
    "\"\"\", job_config=job_config)\n",
    "q1.to_dataframe()['geo_id'][0]"
   ]
  },
  {
   "cell_type": "code",
   "execution_count": 3,
   "id": "7ad265ed",
   "metadata": {},
   "outputs": [
    {
     "data": {
      "text/html": [
       "<div>\n",
       "<style scoped>\n",
       "    .dataframe tbody tr th:only-of-type {\n",
       "        vertical-align: middle;\n",
       "    }\n",
       "\n",
       "    .dataframe tbody tr th {\n",
       "        vertical-align: top;\n",
       "    }\n",
       "\n",
       "    .dataframe thead th {\n",
       "        text-align: right;\n",
       "    }\n",
       "</style>\n",
       "<table border=\"1\" class=\"dataframe\">\n",
       "  <thead>\n",
       "    <tr style=\"text-align: right;\">\n",
       "      <th></th>\n",
       "      <th>num_rows</th>\n",
       "    </tr>\n",
       "  </thead>\n",
       "  <tbody>\n",
       "    <tr>\n",
       "      <th>0</th>\n",
       "      <td>3233</td>\n",
       "    </tr>\n",
       "  </tbody>\n",
       "</table>\n",
       "</div>"
      ],
      "text/plain": [
       "   num_rows\n",
       "0      3233"
      ]
     },
     "execution_count": 3,
     "metadata": {},
     "output_type": "execute_result"
    }
   ],
   "source": [
    "# Count the number of counties in the US\n",
    "q = bq.query(\n",
    "\"\"\"\n",
    "select count(*) as num_rows \n",
    "from bigquery-public-data.geo_us_boundaries.counties\n",
    "\"\"\")\n",
    "q.to_dataframe()"
   ]
  },
  {
   "cell_type": "code",
   "execution_count": 4,
   "id": "4d2463ea",
   "metadata": {},
   "outputs": [
    {
     "name": "stdout",
     "output_type": "stream",
     "text": [
      "['geo_id', 'state_fips_code', 'county_fips_code', 'county_gnis_code', 'county_name', 'lsad_name', 'lsad_code', 'fips_class_code', 'mtfcc_feature_class_code', 'csa_fips_code', 'cbsa_fips_code', 'met_div_fips_code', 'functional_status', 'area_land_meters', 'area_water_meters', 'int_point_lat', 'int_point_lon', 'int_point_geom', 'county_geom']\n"
     ]
    }
   ],
   "source": [
    "# Print the column names in the counties table\n",
    "table_ref = bq.get_table(\"bigquery-public-data.geo_us_boundaries.counties\")\n",
    "column_names = [column.name for column in table_ref.schema]\n",
    "print(column_names)"
   ]
  },
  {
   "cell_type": "code",
   "execution_count": 5,
   "id": "c988e2c9-a8d5-43e8-821f-f8e9c1ba22aa",
   "metadata": {},
   "outputs": [
    {
     "data": {
      "text/plain": [
       "{'48': 254, '13': 159, '51': 133, '21': 120, '29': 115}"
      ]
     },
     "execution_count": 5,
     "metadata": {},
     "output_type": "execute_result"
    }
   ],
   "source": [
    "#q2 : how many counties are there per state (for five states with most counties)?\n",
    "q2 = bq.query(\n",
    "\"\"\"\n",
    "select state_fips_code, count(*) as count from bigquery-public-data.geo_us_boundaries.counties\n",
    "group by state_fips_code\n",
    "\"\"\", job_config=job_config)\n",
    "q2_ = q2.to_dataframe().sort_values('count', ascending=False).head(5)\n",
    "q2_ = q2_.set_index('state_fips_code')\n",
    "q2_ = q2_.to_dict()['count']\n",
    "q2_"
   ]
  },
  {
   "cell_type": "code",
   "execution_count": 6,
   "id": "6527f562-5731-4d74-98db-8dea884005a1",
   "metadata": {},
   "outputs": [
    {
     "data": {
      "text/plain": [
       "{'q1': 5.9604644775390625e-05, 'q2': 5.9604644775390625e-05}"
      ]
     },
     "execution_count": 6,
     "metadata": {},
     "output_type": "execute_result"
    }
   ],
   "source": [
    "#q3 : about how much should the queries for the last two questions cost?\n",
    "tb = 1024**4\n",
    "price_per_tb = 6.25\n",
    "q3 = {}\n",
    "q3['q1'] = q1.total_bytes_billed / tb * price_per_tb\n",
    "q3['q2'] = q2.total_bytes_billed / tb * price_per_tb\n",
    "q3"
   ]
  },
  {
   "cell_type": "markdown",
   "id": "5eb1eef4",
   "metadata": {},
   "source": [
    "### Part 2 : HDMA Data (Parquet in GCS)"
   ]
  },
  {
   "cell_type": "code",
   "execution_count": 7,
   "id": "2683e8b1-c7f9-4e1c-b9d4-7f477296b74d",
   "metadata": {},
   "outputs": [
    {
     "data": {
      "text/plain": [
       "['awesds', 'awesomeds', 'p8']"
      ]
     },
     "execution_count": 7,
     "metadata": {},
     "output_type": "execute_result"
    }
   ],
   "source": [
    "#q4 : what are the datasets in your GCP project?\n",
    "PROJECT_ID = \"cs-544-project\" # Anshu - \"project-vm-398718\"\n",
    "DATASET_ID = \"p8\"\n",
    "PARQUET_LINK = \"gs://cs544_p8_data4lyf/hdma-wi-2021.parquet\" # Anshu - \"gs://cs544_p8_data4lyf2/hdma-wi-2021.parquet\"\n",
    "\n",
    "ds = bigquery.Dataset(f\"{PROJECT_ID}.{DATASET_ID}\")\n",
    "bq.create_dataset(ds, exists_ok=True)\n",
    "\n",
    "config = bigquery.LoadJobConfig(source_format=\"PARQUET\", write_disposition=\"WRITE_TRUNCATE\")\n",
    "bq.load_table_from_uri(PARQUET_LINK, f\"{PROJECT_ID}.{DATASET_ID}.hdma\", job_config=config)\n",
    "\n",
    "[ds.dataset_id for ds in bq.list_datasets(PROJECT_ID)]"
   ]
  },
  {
   "cell_type": "code",
   "execution_count": 8,
   "id": "0bcaf153-430f-46d6-aa44-c0db1f0eedcc",
   "metadata": {},
   "outputs": [
    {
     "data": {
      "text/plain": [
       "{'Milwaukee': 46570,\n",
       " 'Dane': 38557,\n",
       " 'Waukesha': 34159,\n",
       " 'Brown': 15615,\n",
       " 'Racine': 13007,\n",
       " 'Outagamie': 11523,\n",
       " 'Kenosha': 10744,\n",
       " 'Washington': 10726,\n",
       " 'Rock': 9834,\n",
       " 'Winnebago': 9310}"
      ]
     },
     "execution_count": 8,
     "metadata": {},
     "output_type": "execute_result"
    }
   ],
   "source": [
    "#q5 : how many loan applications are there in the HDMA data for each county?\n",
    "import pandas as pd\n",
    "h1 = bq.query(\n",
    "\"\"\"\n",
    "select county_code, count(*) as count\n",
    "from p8.hdma\n",
    "group by county_code\n",
    "\"\"\")\n",
    "h1 = h1.to_dataframe()\n",
    "\n",
    "h2 = bq.query(\n",
    "\"\"\"\n",
    "select distinct county_fips_code as county_code, county_name\n",
    "from bigquery-public-data.geo_us_boundaries.counties\n",
    "\"\"\")\n",
    "h2 = h2.to_dataframe()\n",
    "q5_ = pd.merge(h1, h2, on='county_code', how='inner').sort_values('count', ascending=False).head(10)\n",
    "q5_ = q5_.set_index('county_name')\n",
    "q5 = q5_.to_dict()['count']\n",
    "q5"
   ]
  },
  {
   "cell_type": "markdown",
   "id": "59aa2be5",
   "metadata": {},
   "source": [
    "### Part 3: Application Data (Google Sheet Linked to Form)"
   ]
  },
  {
   "cell_type": "code",
   "execution_count": 9,
   "id": "4eb911cb",
   "metadata": {},
   "outputs": [
    {
     "data": {
      "text/plain": [
       "7"
      ]
     },
     "execution_count": 9,
     "metadata": {},
     "output_type": "execute_result"
    }
   ],
   "source": [
    "#q6 : how many applications are there with your chosen income?\n",
    "\n",
    "url = \"https://docs.google.com/spreadsheets/d/11UeIBqQylAyNUBsIO54p6WiYJWHayQMfHDbUWq1jGco/\"\n",
    "\n",
    "external_config = bigquery.ExternalConfig(\"GOOGLE_SHEETS\")\n",
    "external_config.source_uris = [url]\n",
    "external_config.options.skip_leading_rows = 1\n",
    "external_config.autodetect = True\n",
    "\n",
    "table = bigquery.Table(\"cs-544-project.p8.applications\")\n",
    "table.external_data_configuration = external_config\n",
    "\n",
    "table = bq.create_table(table, exists_ok=True)\n",
    "\n",
    "# for t in bq.list_tables(\"cs-544-project.p8\"):\n",
    "#     print(t.table_id)\n",
    "\n",
    "q = bq.query(\n",
    "\"\"\"\n",
    "select * from cs-544-project.p8.applications\n",
    "where income = 300000\n",
    "\"\"\")\n",
    "q.to_dataframe().shape[0]"
   ]
  },
  {
   "cell_type": "code",
   "execution_count": 10,
   "id": "e1739294",
   "metadata": {},
   "outputs": [
    {
     "data": {
      "text/plain": [
       "{'Sheboygan': 7,\n",
       " 'Dane': 87,\n",
       " 'Door': 21,\n",
       " 'Jefferson': 3,\n",
       " 'Ozaukee': 2,\n",
       " 'Columbia': 6,\n",
       " 'Walworth': 4,\n",
       " 'Marinette': 3,\n",
       " 'Winnebago': 3,\n",
       " 'Iowa': 1,\n",
       " 'Ashland': 2,\n",
       " 'Brown': 7,\n",
       " 'Eau Claire': 1,\n",
       " 'Bayfield': 5,\n",
       " 'Milwaukee': 6,\n",
       " 'Barron': 2,\n",
       " 'Wood': 2,\n",
       " 'Manitowoc': 2,\n",
       " 'Oneida': 4,\n",
       " 'Fond du Lac': 1,\n",
       " 'Marathon': 1,\n",
       " 'Dodge': 1,\n",
       " 'Polk': 1,\n",
       " 'Sauk': 3,\n",
       " 'Chippewa': 1,\n",
       " 'Kenosha': 1,\n",
       " 'Outagamie': 2,\n",
       " 'Kewaunee': 3,\n",
       " 'Monroe': 2,\n",
       " 'Crawford': 1,\n",
       " 'Vilas': 1,\n",
       " 'Green Lake': 2,\n",
       " 'St. Croix': 1,\n",
       " 'Adams': 1,\n",
       " 'Douglas': 1,\n",
       " 'Price': 1}"
      ]
     },
     "execution_count": 10,
     "metadata": {},
     "output_type": "execute_result"
    }
   ],
   "source": [
    "#q7 : how many applications are there in the Google sheet per WI county?\n",
    "q = bq.query(\n",
    "\"\"\"\n",
    "SELECT c.county_name AS county_name, COUNT(*) AS count\n",
    "FROM `bigquery-public-data.geo_us_boundaries.counties` AS c\n",
    "JOIN `cs-544-project.p8.applications` AS a\n",
    "ON ST_CONTAINS(c.county_geom, ST_GEOGPOINT(a.longitude, a.latitude))\n",
    "WHERE c.state_fips_code = '55'\n",
    "GROUP BY county_name\n",
    "\"\"\")\n",
    "result = q.to_dataframe()\n",
    "applications_per_county = dict(zip(result['county_name'], result['count']))\n",
    "applications_per_county"
   ]
  },
  {
   "cell_type": "markdown",
   "id": "27a888be",
   "metadata": {},
   "source": [
    "### Part 4: Machine Learning"
   ]
  },
  {
   "cell_type": "code",
   "execution_count": 11,
   "id": "f1d2412d",
   "metadata": {},
   "outputs": [],
   "source": [
    "%load_ext google.cloud.bigquery"
   ]
  },
  {
   "cell_type": "code",
   "execution_count": 12,
   "id": "02f1445a",
   "metadata": {},
   "outputs": [
    {
     "data": {
      "application/vnd.jupyter.widget-view+json": {
       "model_id": "9c007f7416804b159f1e7e8090befdaf",
       "version_major": 2,
       "version_minor": 0
      },
      "text/plain": [
       "Query is running:   0%|          |"
      ]
     },
     "metadata": {},
     "output_type": "display_data"
    },
    {
     "data": {
      "text/html": [
       "<div>\n",
       "<style scoped>\n",
       "    .dataframe tbody tr th:only-of-type {\n",
       "        vertical-align: middle;\n",
       "    }\n",
       "\n",
       "    .dataframe tbody tr th {\n",
       "        vertical-align: top;\n",
       "    }\n",
       "\n",
       "    .dataframe thead th {\n",
       "        text-align: right;\n",
       "    }\n",
       "</style>\n",
       "<table border=\"1\" class=\"dataframe\">\n",
       "  <thead>\n",
       "    <tr style=\"text-align: right;\">\n",
       "      <th></th>\n",
       "    </tr>\n",
       "  </thead>\n",
       "  <tbody>\n",
       "  </tbody>\n",
       "</table>\n",
       "</div>"
      ],
      "text/plain": [
       "Empty DataFrame\n",
       "Columns: []\n",
       "Index: []"
      ]
     },
     "execution_count": 12,
     "metadata": {},
     "output_type": "execute_result"
    }
   ],
   "source": [
    "%%bigquery\n",
    "CREATE OR REPLACE MODEL `cs-544-project.p8.m1`\n",
    "OPTIONS(model_type='linear_reg', input_label_cols=['loan_amount']) \n",
    "\n",
    "AS\n",
    "\n",
    "SELECT loan_amount, income, loan_term\n",
    "FROM `cs-544-project.p8.hdma`"
   ]
  },
  {
   "cell_type": "code",
   "execution_count": 13,
   "id": "2f3b1dd7",
   "metadata": {},
   "outputs": [],
   "source": [
    "import time\n",
    "while True:\n",
    "    model_present = False\n",
    "    for model in bq.list_models(\"cs-544-project.p8\"):\n",
    "        if model.model_id == \"m1\":\n",
    "            model_present = True\n",
    "            break\n",
    "    if model_present:\n",
    "        break\n",
    "    time.sleep(5)"
   ]
  },
  {
   "cell_type": "code",
   "execution_count": 14,
   "id": "c5d7a009",
   "metadata": {},
   "outputs": [
    {
     "data": {
      "application/vnd.jupyter.widget-view+json": {
       "model_id": "50dfae1659414bf189d55275a83f7aa6",
       "version_major": 2,
       "version_minor": 0
      },
      "text/plain": [
       "Query is running:   0%|          |"
      ]
     },
     "metadata": {},
     "output_type": "display_data"
    },
    {
     "data": {
      "application/vnd.jupyter.widget-view+json": {
       "model_id": "d6654faa575841e2b93bd4b42dd57d3c",
       "version_major": 2,
       "version_minor": 0
      },
      "text/plain": [
       "Downloading:   0%|          |"
      ]
     },
     "metadata": {},
     "output_type": "display_data"
    }
   ],
   "source": [
    "\n",
    "%%bigquery eval_df \n",
    "SELECT * FROM ML.EVALUATE(MODEL `cs-544-project.p8.m1`, (\n",
    "    SELECT loan_amount, income, loan_term\n",
    "    FROM `cs-544-project.p8.hdma`\n",
    "))"
   ]
  },
  {
   "cell_type": "code",
   "execution_count": 15,
   "id": "2c7b3a6b",
   "metadata": {},
   "outputs": [
    {
     "data": {
      "text/html": [
       "<div>\n",
       "<style scoped>\n",
       "    .dataframe tbody tr th:only-of-type {\n",
       "        vertical-align: middle;\n",
       "    }\n",
       "\n",
       "    .dataframe tbody tr th {\n",
       "        vertical-align: top;\n",
       "    }\n",
       "\n",
       "    .dataframe thead th {\n",
       "        text-align: right;\n",
       "    }\n",
       "</style>\n",
       "<table border=\"1\" class=\"dataframe\">\n",
       "  <thead>\n",
       "    <tr style=\"text-align: right;\">\n",
       "      <th></th>\n",
       "      <th>mean_absolute_error</th>\n",
       "      <th>mean_squared_error</th>\n",
       "      <th>mean_squared_log_error</th>\n",
       "      <th>median_absolute_error</th>\n",
       "      <th>r2_score</th>\n",
       "      <th>explained_variance</th>\n",
       "    </tr>\n",
       "  </thead>\n",
       "  <tbody>\n",
       "    <tr>\n",
       "      <th>0</th>\n",
       "      <td>77104.735568</td>\n",
       "      <td>1.286932e+10</td>\n",
       "      <td>0.429716</td>\n",
       "      <td>55477.208425</td>\n",
       "      <td>0.291653</td>\n",
       "      <td>0.291653</td>\n",
       "    </tr>\n",
       "  </tbody>\n",
       "</table>\n",
       "</div>"
      ],
      "text/plain": [
       "   mean_absolute_error  mean_squared_error  mean_squared_log_error  \\\n",
       "0         77104.735568        1.286932e+10                0.429716   \n",
       "\n",
       "   median_absolute_error  r2_score  explained_variance  \n",
       "0           55477.208425  0.291653            0.291653  "
      ]
     },
     "execution_count": 15,
     "metadata": {},
     "output_type": "execute_result"
    }
   ],
   "source": [
    "eval_df"
   ]
  },
  {
   "cell_type": "code",
   "execution_count": 16,
   "id": "5c4e618b",
   "metadata": {},
   "outputs": [
    {
     "data": {
      "text/plain": [
       "0.29165346922391866"
      ]
     },
     "execution_count": 16,
     "metadata": {},
     "output_type": "execute_result"
    }
   ],
   "source": [
    "#q8\n",
    "eval_df[\"r2_score\"][0]"
   ]
  },
  {
   "cell_type": "code",
   "execution_count": 17,
   "id": "0c02298b",
   "metadata": {},
   "outputs": [
    {
     "data": {
      "application/vnd.jupyter.widget-view+json": {
       "model_id": "af5dd873d3ca4165ad26d66491172198",
       "version_major": 2,
       "version_minor": 0
      },
      "text/plain": [
       "Query is running:   0%|          |"
      ]
     },
     "metadata": {},
     "output_type": "display_data"
    },
    {
     "data": {
      "application/vnd.jupyter.widget-view+json": {
       "model_id": "38eea4b759c34974b83484486f009c05",
       "version_major": 2,
       "version_minor": 0
      },
      "text/plain": [
       "Downloading:   0%|          |"
      ]
     },
     "metadata": {},
     "output_type": "display_data"
    }
   ],
   "source": [
    "%%bigquery weights_df\n",
    "SELECT *\n",
    "FROM ML.WEIGHTS(MODEL `cs-544-project.p8.m1`)"
   ]
  },
  {
   "cell_type": "code",
   "execution_count": 18,
   "id": "1284ec6c",
   "metadata": {},
   "outputs": [
    {
     "data": {
      "text/html": [
       "<div>\n",
       "<style scoped>\n",
       "    .dataframe tbody tr th:only-of-type {\n",
       "        vertical-align: middle;\n",
       "    }\n",
       "\n",
       "    .dataframe tbody tr th {\n",
       "        vertical-align: top;\n",
       "    }\n",
       "\n",
       "    .dataframe thead th {\n",
       "        text-align: right;\n",
       "    }\n",
       "</style>\n",
       "<table border=\"1\" class=\"dataframe\">\n",
       "  <thead>\n",
       "    <tr style=\"text-align: right;\">\n",
       "      <th></th>\n",
       "      <th>processed_input</th>\n",
       "      <th>weight</th>\n",
       "      <th>category_weights</th>\n",
       "    </tr>\n",
       "  </thead>\n",
       "  <tbody>\n",
       "    <tr>\n",
       "      <th>0</th>\n",
       "      <td>income</td>\n",
       "      <td>0.804631</td>\n",
       "      <td>[]</td>\n",
       "    </tr>\n",
       "    <tr>\n",
       "      <th>1</th>\n",
       "      <td>loan_term</td>\n",
       "      <td>380.225284</td>\n",
       "      <td>[]</td>\n",
       "    </tr>\n",
       "    <tr>\n",
       "      <th>2</th>\n",
       "      <td>__INTERCEPT__</td>\n",
       "      <td>-579.734123</td>\n",
       "      <td>[]</td>\n",
       "    </tr>\n",
       "  </tbody>\n",
       "</table>\n",
       "</div>"
      ],
      "text/plain": [
       "  processed_input      weight category_weights\n",
       "0          income    0.804631               []\n",
       "1       loan_term  380.225284               []\n",
       "2   __INTERCEPT__ -579.734123               []"
      ]
     },
     "execution_count": 18,
     "metadata": {},
     "output_type": "execute_result"
    }
   ],
   "source": [
    "weights_df"
   ]
  },
  {
   "cell_type": "code",
   "execution_count": 19,
   "id": "1ea8dbf2",
   "metadata": {},
   "outputs": [
    {
     "data": {
      "text/plain": [
       "0.8046310253990151"
      ]
     },
     "execution_count": 19,
     "metadata": {},
     "output_type": "execute_result"
    }
   ],
   "source": [
    "#q9\n",
    "income_weight = weights_df.loc[weights_df['processed_input'] == 'income', 'weight'].values[0]\n",
    "income_weight"
   ]
  },
  {
   "cell_type": "code",
   "execution_count": 20,
   "id": "b047359e",
   "metadata": {},
   "outputs": [
    {
     "data": {
      "application/vnd.jupyter.widget-view+json": {
       "model_id": "744287ed00ed458d915886303259eb96",
       "version_major": 2,
       "version_minor": 0
      },
      "text/plain": [
       "Query is running:   0%|          |"
      ]
     },
     "metadata": {},
     "output_type": "display_data"
    },
    {
     "data": {
      "application/vnd.jupyter.widget-view+json": {
       "model_id": "d81eb22390a9497492265732ba54d707",
       "version_major": 2,
       "version_minor": 0
      },
      "text/plain": [
       "Downloading:   0%|          |"
      ]
     },
     "metadata": {},
     "output_type": "display_data"
    }
   ],
   "source": [
    "%%bigquery appl_df \n",
    "SELECT * FROM `cs-544-project.p8.applications`"
   ]
  },
  {
   "cell_type": "code",
   "execution_count": 21,
   "id": "9a137c25",
   "metadata": {},
   "outputs": [
    {
     "data": {
      "text/html": [
       "<div>\n",
       "<style scoped>\n",
       "    .dataframe tbody tr th:only-of-type {\n",
       "        vertical-align: middle;\n",
       "    }\n",
       "\n",
       "    .dataframe tbody tr th {\n",
       "        vertical-align: top;\n",
       "    }\n",
       "\n",
       "    .dataframe thead th {\n",
       "        text-align: right;\n",
       "    }\n",
       "</style>\n",
       "<table border=\"1\" class=\"dataframe\">\n",
       "  <thead>\n",
       "    <tr style=\"text-align: right;\">\n",
       "      <th></th>\n",
       "      <th>Timestamp</th>\n",
       "      <th>loan_amount</th>\n",
       "      <th>income</th>\n",
       "      <th>latitude</th>\n",
       "      <th>longitude</th>\n",
       "    </tr>\n",
       "  </thead>\n",
       "  <tbody>\n",
       "    <tr>\n",
       "      <th>0</th>\n",
       "      <td>2023-11-27 21:05:40.625000+00:00</td>\n",
       "      <td>100000.0</td>\n",
       "      <td>10000.0</td>\n",
       "      <td>43.069646</td>\n",
       "      <td>-89.753298</td>\n",
       "    </tr>\n",
       "    <tr>\n",
       "      <th>1</th>\n",
       "      <td>2023-11-27 21:10:35.948000+00:00</td>\n",
       "      <td>200000.0</td>\n",
       "      <td>20000.0</td>\n",
       "      <td>45.058784</td>\n",
       "      <td>-87.665404</td>\n",
       "    </tr>\n",
       "    <tr>\n",
       "      <th>2</th>\n",
       "      <td>2023-11-27 21:11:51.383000+00:00</td>\n",
       "      <td>200000.0</td>\n",
       "      <td>20000.0</td>\n",
       "      <td>45.000711</td>\n",
       "      <td>-87.229077</td>\n",
       "    </tr>\n",
       "    <tr>\n",
       "      <th>3</th>\n",
       "      <td>2023-11-27 21:13:07.711000+00:00</td>\n",
       "      <td>300000.0</td>\n",
       "      <td>30000.0</td>\n",
       "      <td>44.523038</td>\n",
       "      <td>-88.072896</td>\n",
       "    </tr>\n",
       "    <tr>\n",
       "      <th>4</th>\n",
       "      <td>2023-11-27 21:14:15.019000+00:00</td>\n",
       "      <td>200000.0</td>\n",
       "      <td>30000.0</td>\n",
       "      <td>42.528472</td>\n",
       "      <td>-88.602056</td>\n",
       "    </tr>\n",
       "    <tr>\n",
       "      <th>...</th>\n",
       "      <td>...</td>\n",
       "      <td>...</td>\n",
       "      <td>...</td>\n",
       "      <td>...</td>\n",
       "      <td>...</td>\n",
       "    </tr>\n",
       "    <tr>\n",
       "      <th>309</th>\n",
       "      <td>2023-12-13 22:13:28.676000+00:00</td>\n",
       "      <td>50000.0</td>\n",
       "      <td>100000.0</td>\n",
       "      <td>43.373119</td>\n",
       "      <td>-89.579532</td>\n",
       "    </tr>\n",
       "    <tr>\n",
       "      <th>310</th>\n",
       "      <td>2023-12-13 22:16:47.974000+00:00</td>\n",
       "      <td>400000.0</td>\n",
       "      <td>250000.0</td>\n",
       "      <td>43.068826</td>\n",
       "      <td>-89.408038</td>\n",
       "    </tr>\n",
       "    <tr>\n",
       "      <th>311</th>\n",
       "      <td>2023-12-13 22:22:09.481000+00:00</td>\n",
       "      <td>650000.0</td>\n",
       "      <td>115000.0</td>\n",
       "      <td>42.844444</td>\n",
       "      <td>89.009083</td>\n",
       "    </tr>\n",
       "    <tr>\n",
       "      <th>312</th>\n",
       "      <td>2023-12-13 22:46:43.207000+00:00</td>\n",
       "      <td>100.0</td>\n",
       "      <td>100.0</td>\n",
       "      <td>0.000000</td>\n",
       "      <td>0.000000</td>\n",
       "    </tr>\n",
       "    <tr>\n",
       "      <th>313</th>\n",
       "      <td>2023-12-13 23:06:57.374000+00:00</td>\n",
       "      <td>30000.0</td>\n",
       "      <td>180000.0</td>\n",
       "      <td>20.000000</td>\n",
       "      <td>40.000000</td>\n",
       "    </tr>\n",
       "  </tbody>\n",
       "</table>\n",
       "<p>314 rows × 5 columns</p>\n",
       "</div>"
      ],
      "text/plain": [
       "                           Timestamp  loan_amount    income   latitude  \\\n",
       "0   2023-11-27 21:05:40.625000+00:00     100000.0   10000.0  43.069646   \n",
       "1   2023-11-27 21:10:35.948000+00:00     200000.0   20000.0  45.058784   \n",
       "2   2023-11-27 21:11:51.383000+00:00     200000.0   20000.0  45.000711   \n",
       "3   2023-11-27 21:13:07.711000+00:00     300000.0   30000.0  44.523038   \n",
       "4   2023-11-27 21:14:15.019000+00:00     200000.0   30000.0  42.528472   \n",
       "..                               ...          ...       ...        ...   \n",
       "309 2023-12-13 22:13:28.676000+00:00      50000.0  100000.0  43.373119   \n",
       "310 2023-12-13 22:16:47.974000+00:00     400000.0  250000.0  43.068826   \n",
       "311 2023-12-13 22:22:09.481000+00:00     650000.0  115000.0  42.844444   \n",
       "312 2023-12-13 22:46:43.207000+00:00        100.0     100.0   0.000000   \n",
       "313 2023-12-13 23:06:57.374000+00:00      30000.0  180000.0  20.000000   \n",
       "\n",
       "     longitude  \n",
       "0   -89.753298  \n",
       "1   -87.665404  \n",
       "2   -87.229077  \n",
       "3   -88.072896  \n",
       "4   -88.602056  \n",
       "..         ...  \n",
       "309 -89.579532  \n",
       "310 -89.408038  \n",
       "311  89.009083  \n",
       "312   0.000000  \n",
       "313  40.000000  \n",
       "\n",
       "[314 rows x 5 columns]"
      ]
     },
     "execution_count": 21,
     "metadata": {},
     "output_type": "execute_result"
    }
   ],
   "source": [
    "appl_df"
   ]
  },
  {
   "cell_type": "code",
   "execution_count": 22,
   "id": "b7a24ae5",
   "metadata": {},
   "outputs": [
    {
     "data": {
      "text/plain": [
       "0.5859872611464968"
      ]
     },
     "execution_count": 22,
     "metadata": {},
     "output_type": "execute_result"
    }
   ],
   "source": [
    "#q10\n",
    "loan_term_weight = weights_df.loc[weights_df['processed_input'] == 'loan_term', 'weight'].values[0]\n",
    "intercept = weights_df.loc[weights_df['processed_input'] == '__INTERCEPT__', 'weight'].values[0]\n",
    "\n",
    "# Make the prediction in applications table\n",
    "prediction = income_weight * appl_df[\"income\"] + loan_term_weight * 360 + intercept\n",
    "ask_ratio = (appl_df[\"loan_amount\"] > prediction).sum() / appl_df.shape[0]\n",
    "ask_ratio"
   ]
  }
 ],
 "metadata": {
  "kernelspec": {
   "display_name": "Python 3 (ipykernel)",
   "language": "python",
   "name": "python3"
  },
  "language_info": {
   "codemirror_mode": {
    "name": "ipython",
    "version": 3
   },
   "file_extension": ".py",
   "mimetype": "text/x-python",
   "name": "python",
   "nbconvert_exporter": "python",
   "pygments_lexer": "ipython3",
   "version": "3.11.6"
  }
 },
 "nbformat": 4,
 "nbformat_minor": 5
}
