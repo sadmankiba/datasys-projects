{
 "cells": [
  {
   "cell_type": "code",
   "execution_count": 1,
   "id": "d38b2982-1163-4905-96e5-0ed2d5d9838b",
   "metadata": {},
   "outputs": [
    {
     "name": "stdout",
     "output_type": "stream",
     "text": [
      "Configured Capacity: 20426932224 (19.02 GB)\n",
      "Present Capacity: 7378034688 (6.87 GB)\n",
      "DFS Remaining: 7377985536 (6.87 GB)\n",
      "DFS Used: 49152 (48 KB)\n",
      "DFS Used%: 0.00%\n",
      "Replicated Blocks:\n",
      "\tUnder replicated blocks: 0\n",
      "\tBlocks with corrupt replicas: 0\n",
      "\tMissing blocks: 0\n",
      "\tMissing blocks (with replication factor 1): 0\n",
      "\tLow redundancy blocks with highest priority to recover: 0\n",
      "\tPending deletion blocks: 0\n",
      "Erasure Coded Block Groups: \n",
      "\tLow redundancy block groups: 0\n",
      "\tBlock groups with corrupt internal blocks: 0\n",
      "\tMissing block groups: 0\n",
      "\tLow redundancy blocks with highest priority to recover: 0\n",
      "\tPending deletion blocks: 0\n",
      "\n",
      "-------------------------------------------------\n",
      "Live datanodes (2):\n",
      "\n",
      "Name: 172.27.0.4:9866 (project-4-data4lyf4-dn-1.project-4-data4lyf4_default)\n",
      "Hostname: 7dc1b469362a\n",
      "Decommission Status : Normal\n",
      "Configured Capacity: 10213466112 (9.51 GB)\n",
      "DFS Used: 24576 (24 KB)\n",
      "Non DFS Used: 6507671552 (6.06 GB)\n",
      "DFS Remaining: 3688992768 (3.44 GB)\n",
      "DFS Used%: 0.00%\n",
      "DFS Remaining%: 36.12%\n",
      "Configured Cache Capacity: 0 (0 B)\n",
      "Cache Used: 0 (0 B)\n",
      "Cache Remaining: 0 (0 B)\n",
      "Cache Used%: 100.00%\n",
      "Cache Remaining%: 0.00%\n",
      "Xceivers: 0\n",
      "Last contact: Fri Oct 27 22:46:36 GMT 2023\n",
      "Last Block Report: Fri Oct 27 22:44:57 GMT 2023\n",
      "Num of Blocks: 0\n",
      "\n",
      "\n",
      "Name: 172.27.0.5:9866 (project-4-data4lyf4-dn-2.project-4-data4lyf4_default)\n",
      "Hostname: 4c44021d23eb\n",
      "Decommission Status : Normal\n",
      "Configured Capacity: 10213466112 (9.51 GB)\n",
      "DFS Used: 24576 (24 KB)\n",
      "Non DFS Used: 6507671552 (6.06 GB)\n",
      "DFS Remaining: 3688992768 (3.44 GB)\n",
      "DFS Used%: 0.00%\n",
      "DFS Remaining%: 36.12%\n",
      "Configured Cache Capacity: 0 (0 B)\n",
      "Cache Used: 0 (0 B)\n",
      "Cache Remaining: 0 (0 B)\n",
      "Cache Used%: 100.00%\n",
      "Cache Remaining%: 0.00%\n",
      "Xceivers: 0\n",
      "Last contact: Fri Oct 27 22:46:36 GMT 2023\n",
      "Last Block Report: Fri Oct 27 22:44:57 GMT 2023\n",
      "Num of Blocks: 0\n",
      "\n",
      "\n"
     ]
    }
   ],
   "source": [
    "#q1\n",
    "!hdfs dfsadmin -fs hdfs://boss:9000 -report"
   ]
  },
  {
   "cell_type": "code",
   "execution_count": 2,
   "id": "4c430a11-c0b5-4ed4-a1ea-7b8c05f0a5d0",
   "metadata": {},
   "outputs": [
    {
     "name": "stdout",
     "output_type": "stream",
     "text": [
      "rm: cannot remove 'hdma-wi-2021.csv': No such file or directory\n",
      "--2023-10-27 22:46:45--  https://pages.cs.wisc.edu/~harter/cs544/data/hdma-wi-2021.csv\n",
      "Resolving pages.cs.wisc.edu (pages.cs.wisc.edu)... 128.105.7.9\n",
      "Connecting to pages.cs.wisc.edu (pages.cs.wisc.edu)|128.105.7.9|:443... connected.\n",
      "HTTP request sent, awaiting response... 200 OK\n",
      "Length: 174944099 (167M) [text/csv]\n",
      "Saving to: ‘hdma-wi-2021.csv’\n",
      "\n",
      "hdma-wi-2021.csv    100%[===================>] 166.84M  81.0MB/s    in 2.1s    \n",
      "\n",
      "2023-10-27 22:46:47 (81.0 MB/s) - ‘hdma-wi-2021.csv’ saved [174944099/174944099]\n",
      "\n"
     ]
    }
   ],
   "source": [
    "!hdfs dfs -rm -f hdfs://boss:9000/single.csv\n",
    "!hdfs dfs -rm -f hdfs://boss:9000/double.csv\n",
    "!rm hdma-wi-2021.csv\n",
    "!wget https://pages.cs.wisc.edu/~harter/cs544/data/hdma-wi-2021.csv"
   ]
  },
  {
   "cell_type": "code",
   "execution_count": 3,
   "id": "849cf5c9-e633-41c8-9e66-9dbbca1db381",
   "metadata": {},
   "outputs": [],
   "source": [
    "!hdfs dfs -D dfs.replication=1 -D dfs.block.size=1m -cp ./hdma-wi-2021.csv hdfs://boss:9000/single.csv\n",
    "!hdfs dfs -D dfs.replication=2 -D dfs.block.size=1m -cp ./hdma-wi-2021.csv hdfs://boss:9000/double.csv"
   ]
  },
  {
   "cell_type": "code",
   "execution_count": 4,
   "id": "62e37658-6c17-4673-9d7b-892016a48888",
   "metadata": {},
   "outputs": [
    {
     "name": "stdout",
     "output_type": "stream",
     "text": [
      "166.8 M  333.7 M  hdfs://boss:9000/double.csv\n",
      "166.8 M  166.8 M  hdfs://boss:9000/single.csv\n"
     ]
    }
   ],
   "source": [
    "#q2\n",
    "!hdfs dfs -du -h hdfs://boss:9000/"
   ]
  },
  {
   "cell_type": "code",
   "execution_count": 5,
   "id": "ae55451d-cdb3-4fba-b8f4-611e252977e0",
   "metadata": {},
   "outputs": [
    {
     "data": {
      "text/plain": [
       "{'FileStatus': [{'accessTime': 1698446810509,\n",
       "   'blockSize': 1048576,\n",
       "   'childrenNum': 0,\n",
       "   'fileId': 16386,\n",
       "   'group': 'supergroup',\n",
       "   'length': 174944099,\n",
       "   'modificationTime': 1698446816121,\n",
       "   'owner': 'root',\n",
       "   'pathSuffix': '',\n",
       "   'permission': '644',\n",
       "   'replication': 1,\n",
       "   'storagePolicy': 0,\n",
       "   'type': 'FILE'}]}"
      ]
     },
     "execution_count": 5,
     "metadata": {},
     "output_type": "execute_result"
    }
   ],
   "source": [
    "#q3\n",
    "import requests\n",
    "r = requests.get(\"http://boss:9870/webhdfs/v1/single.csv?op=LISTSTATUS\")\n",
    "status = r.json()\n",
    "total_size = status['FileStatuses']['FileStatus'][0]['length']\n",
    "block_size = status['FileStatuses']['FileStatus'][0]['blockSize']\n",
    "fs = status['FileStatuses']\n",
    "fs['FileStatus'] = fs['FileStatus'][0]\n",
    "fs"
   ]
  },
  {
   "cell_type": "code",
   "execution_count": 6,
   "id": "e4f768f9-857e-4432-86a5-3241d768cfe2",
   "metadata": {},
   "outputs": [
    {
     "data": {
      "text/plain": [
       "'http://7dc1b469362a:9864/webhdfs/v1/single.csv?op=OPEN&namenoderpcaddress=boss:9000&offset=0'"
      ]
     },
     "execution_count": 6,
     "metadata": {},
     "output_type": "execute_result"
    }
   ],
   "source": [
    "#q4\n",
    "r = requests.get(\"http://boss:9870/webhdfs/v1/single.csv?op=OPEN&offset=0&noredirect=true\")\n",
    "r.json()['Location']"
   ]
  },
  {
   "cell_type": "code",
   "execution_count": 7,
   "id": "94464ff8-5894-4e8f-811f-af67a97e5284",
   "metadata": {},
   "outputs": [
    {
     "data": {
      "text/plain": [
       "{'7dc1b469362a': 92, '4c44021d23eb': 75}"
      ]
     },
     "execution_count": 7,
     "metadata": {},
     "output_type": "execute_result"
    }
   ],
   "source": [
    "#q5\n",
    "counts = {}\n",
    "for offset in range(0, total_size, block_size):\n",
    "    r = requests.get(\"http://boss:9870/webhdfs/v1/single.csv?op=OPEN&offset={}&noredirect=true\".format(offset))\n",
    "    url = r.json()['Location']\n",
    "    id = url[url.find('http://') + len('http://'):url.find(':9864')]\n",
    "    if id in counts:\n",
    "        counts[id] += 1\n",
    "    else:\n",
    "        counts[id] = 1\n",
    "counts"
   ]
  },
  {
   "cell_type": "code",
   "execution_count": 8,
   "id": "2b360dc3-faeb-4342-9644-7e16dd509dfd",
   "metadata": {},
   "outputs": [
    {
     "name": "stderr",
     "output_type": "stream",
     "text": [
      "2023-10-27 22:47:17,243 WARN util.NativeCodeLoader: Unable to load native-hadoop library for your platform... using builtin-java classes where applicable\n"
     ]
    },
    {
     "data": {
      "text/plain": [
       "b'activity_y'"
      ]
     },
     "execution_count": 8,
     "metadata": {},
     "output_type": "execute_result"
    }
   ],
   "source": [
    "#q6\n",
    "import pyarrow as pa\n",
    "import pyarrow.fs\n",
    "hdfs = pa.fs.HadoopFileSystem(\"boss\", 9000)\n",
    "\n",
    "with hdfs.open_input_file(\"hdfs://boss:9000/single.csv\") as f:\n",
    "    bts = f.read_at(10, 0)\n",
    "\n",
    "bts"
   ]
  },
  {
   "cell_type": "code",
   "execution_count": 9,
   "id": "1838ec10-e487-47c3-9cfc-7831b96f6ec0",
   "metadata": {},
   "outputs": [
    {
     "data": {
      "text/plain": [
       "444874"
      ]
     },
     "execution_count": 9,
     "metadata": {},
     "output_type": "execute_result"
    }
   ],
   "source": [
    "#q7\n",
    "import io\n",
    "\n",
    "with hdfs.open_input_file(\"hdfs://boss:9000/single.csv\") as f:\n",
    "    reader = io.BufferedReader(f)\n",
    "    cnt = 0\n",
    "    for line in reader:\n",
    "        if \"Single Family\" in line.decode(\"utf-8\"):\n",
    "            cnt += 1\n",
    "\n",
    "cnt"
   ]
  }
 ],
 "metadata": {
  "kernelspec": {
   "display_name": "Python 3 (ipykernel)",
   "language": "python",
   "name": "python3"
  },
  "language_info": {
   "codemirror_mode": {
    "name": "ipython",
    "version": 3
   },
   "file_extension": ".py",
   "mimetype": "text/x-python",
   "name": "python",
   "nbconvert_exporter": "python",
   "pygments_lexer": "ipython3",
   "version": "3.10.12"
  }
 },
 "nbformat": 4,
 "nbformat_minor": 5
}
