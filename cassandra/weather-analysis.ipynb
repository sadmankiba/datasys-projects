{
 "cells": [
  {
   "cell_type": "code",
   "execution_count": 1,
   "id": "fe6aecef-72ba-4c3d-bb48-93534ae74763",
   "metadata": {
    "execution": {
     "iopub.execute_input": "2023-11-23T02:02:22.722183Z",
     "iopub.status.busy": "2023-11-23T02:02:22.721236Z",
     "iopub.status.idle": "2023-11-23T02:02:24.859634Z",
     "shell.execute_reply": "2023-11-23T02:02:24.858549Z"
    }
   },
   "outputs": [
    {
     "name": "stdout",
     "output_type": "stream",
     "text": [
      "Datacenter: datacenter1\r\n",
      "=======================\r\n",
      "Status=Up/Down\r\n",
      "|/ State=Normal/Leaving/Joining/Moving\r\n",
      "--  Address     Load       Tokens  Owns (effective)  Host ID                               Rack \r\n",
      "UN  172.25.0.2  70.26 KiB  16      74.1%             5ddcc947-9ed4-4b55-87c1-8164a211ea4b  rack1\r\n",
      "UN  172.25.0.4  99.42 KiB  16      68.2%             d553f1d9-458c-41fc-b429-3728e6e218f9  rack1\r\n",
      "UN  172.25.0.3  70.25 KiB  16      57.8%             f640d31c-a0bf-4f22-96d0-1946135d9d71  rack1\r\n",
      "\r\n"
     ]
    }
   ],
   "source": [
    "!nodetool status"
   ]
  },
  {
   "cell_type": "code",
   "execution_count": 2,
   "id": "3121d838-457e-44e1-a27f-236b30d61f26",
   "metadata": {
    "execution": {
     "iopub.execute_input": "2023-11-23T02:02:24.866007Z",
     "iopub.status.busy": "2023-11-23T02:02:24.864798Z",
     "iopub.status.idle": "2023-11-23T02:02:25.594270Z",
     "shell.execute_reply": "2023-11-23T02:02:25.585405Z"
    }
   },
   "outputs": [],
   "source": [
    "from cassandra.cluster import Cluster\n",
    "cluster = Cluster(['p6-db-1', 'p6-db-2', 'p6-db-3'])\n",
    "cass = cluster.connect()"
   ]
  },
  {
   "cell_type": "code",
   "execution_count": 3,
   "id": "c3aa8ccc-2312-4814-b13f-a062b9f57d03",
   "metadata": {
    "execution": {
     "iopub.execute_input": "2023-11-23T02:02:25.610345Z",
     "iopub.status.busy": "2023-11-23T02:02:25.601282Z",
     "iopub.status.idle": "2023-11-23T02:02:30.989387Z",
     "shell.execute_reply": "2023-11-23T02:02:30.988030Z"
    }
   },
   "outputs": [
    {
     "data": {
      "text/plain": [
       "<cassandra.cluster.ResultSet at 0x7fd504b80dc0>"
      ]
     },
     "execution_count": 3,
     "metadata": {},
     "output_type": "execute_result"
    }
   ],
   "source": [
    "cass.execute(\"drop keyspace if exists weather\")\n",
    "cass.execute(\"create keyspace weather with replication={'class': 'SimpleStrategy', 'replication_factor': 3};\")\n",
    "cass.execute(\"create type if not exists weather.station_record(tmin INT, tmax INT)\")\n",
    "cass.execute('''create table if not exists weather.stations (\n",
    "id TEXT, \n",
    "name TEXT STATIC, \n",
    "date DATE, \n",
    "record weather.station_record,\n",
    "PRIMARY KEY ((id), date))\n",
    "WITH CLUSTERING ORDER BY (date ASC)''')"
   ]
  },
  {
   "cell_type": "code",
   "execution_count": 4,
   "id": "baebef20-db39-48d8-9381-66e02f7a17f0",
   "metadata": {
    "execution": {
     "iopub.execute_input": "2023-11-23T02:02:30.998765Z",
     "iopub.status.busy": "2023-11-23T02:02:30.996296Z",
     "iopub.status.idle": "2023-11-23T02:02:31.032545Z",
     "shell.execute_reply": "2023-11-23T02:02:31.030540Z"
    }
   },
   "outputs": [
    {
     "data": {
      "text/plain": [
       "\"CREATE TABLE weather.stations (\\n    id text,\\n    date date,\\n    name text static,\\n    record station_record,\\n    PRIMARY KEY (id, date)\\n) WITH CLUSTERING ORDER BY (date ASC)\\n    AND additional_write_policy = '99p'\\n    AND bloom_filter_fp_chance = 0.01\\n    AND caching = {'keys': 'ALL', 'rows_per_partition': 'NONE'}\\n    AND cdc = false\\n    AND comment = ''\\n    AND compaction = {'class': 'org.apache.cassandra.db.compaction.SizeTieredCompactionStrategy', 'max_threshold': '32', 'min_threshold': '4'}\\n    AND compression = {'chunk_length_in_kb': '16', 'class': 'org.apache.cassandra.io.compress.LZ4Compressor'}\\n    AND memtable = 'default'\\n    AND crc_check_chance = 1.0\\n    AND default_time_to_live = 0\\n    AND extensions = {}\\n    AND gc_grace_seconds = 864000\\n    AND max_index_interval = 2048\\n    AND memtable_flush_period_in_ms = 0\\n    AND min_index_interval = 128\\n    AND read_repair = 'BLOCKING'\\n    AND speculative_retry = '99p';\""
      ]
     },
     "execution_count": 4,
     "metadata": {},
     "output_type": "execute_result"
    }
   ],
   "source": [
    "#q1\n",
    "\n",
    "cass.execute(\"describe table weather.stations\").one().create_statement"
   ]
  },
  {
   "cell_type": "code",
   "execution_count": 5,
   "id": "b1618369-585e-41e3-846e-0b693ed3866b",
   "metadata": {
    "execution": {
     "iopub.execute_input": "2023-11-23T02:02:31.042386Z",
     "iopub.status.busy": "2023-11-23T02:02:31.041536Z",
     "iopub.status.idle": "2023-11-23T02:02:45.823741Z",
     "shell.execute_reply": "2023-11-23T02:02:45.822644Z"
    }
   },
   "outputs": [
    {
     "name": "stdout",
     "output_type": "stream",
     "text": [
      ":: loading settings :: url = jar:file:/spark-3.4.1-bin-hadoop3/jars/ivy-2.5.1.jar!/org/apache/ivy/core/settings/ivysettings.xml\n"
     ]
    },
    {
     "name": "stderr",
     "output_type": "stream",
     "text": [
      "Ivy Default Cache set to: /root/.ivy2/cache\n",
      "The jars for the packages stored in: /root/.ivy2/jars\n",
      "com.datastax.spark#spark-cassandra-connector_2.12 added as a dependency\n",
      ":: resolving dependencies :: org.apache.spark#spark-submit-parent-9fe4a25a-ff29-49da-ad44-d9c207c0fa09;1.0\n",
      "\tconfs: [default]\n"
     ]
    },
    {
     "name": "stderr",
     "output_type": "stream",
     "text": [
      "\tfound com.datastax.spark#spark-cassandra-connector_2.12;3.4.0 in central\n",
      "\tfound com.datastax.spark#spark-cassandra-connector-driver_2.12;3.4.0 in central\n"
     ]
    },
    {
     "name": "stderr",
     "output_type": "stream",
     "text": [
      "\tfound com.datastax.oss#java-driver-core-shaded;4.13.0 in central\n",
      "\tfound com.datastax.oss#native-protocol;1.5.0 in central\n",
      "\tfound com.datastax.oss#java-driver-shaded-guava;25.1-jre-graal-sub-1 in central\n"
     ]
    },
    {
     "name": "stderr",
     "output_type": "stream",
     "text": [
      "\tfound com.typesafe#config;1.4.1 in central\n"
     ]
    },
    {
     "name": "stderr",
     "output_type": "stream",
     "text": [
      "\tfound org.slf4j#slf4j-api;1.7.26 in central\n"
     ]
    },
    {
     "name": "stderr",
     "output_type": "stream",
     "text": [
      "\tfound io.dropwizard.metrics#metrics-core;4.1.18 in central\n",
      "\tfound org.hdrhistogram#HdrHistogram;2.1.12 in central\n",
      "\tfound org.reactivestreams#reactive-streams;1.0.3 in central\n"
     ]
    },
    {
     "name": "stderr",
     "output_type": "stream",
     "text": [
      "\tfound com.github.stephenc.jcip#jcip-annotations;1.0-1 in central\n",
      "\tfound com.github.spotbugs#spotbugs-annotations;3.1.12 in central\n"
     ]
    },
    {
     "name": "stderr",
     "output_type": "stream",
     "text": [
      "\tfound com.google.code.findbugs#jsr305;3.0.2 in central\n",
      "\tfound com.datastax.oss#java-driver-mapper-runtime;4.13.0 in central\n"
     ]
    },
    {
     "name": "stderr",
     "output_type": "stream",
     "text": [
      "\tfound com.datastax.oss#java-driver-query-builder;4.13.0 in central\n"
     ]
    },
    {
     "name": "stderr",
     "output_type": "stream",
     "text": [
      "\tfound org.apache.commons#commons-lang3;3.10 in central\n"
     ]
    },
    {
     "name": "stderr",
     "output_type": "stream",
     "text": [
      "\tfound com.thoughtworks.paranamer#paranamer;2.8 in central\n",
      "\tfound org.scala-lang#scala-reflect;2.12.11 in central\n",
      "downloading https://repo1.maven.org/maven2/com/datastax/spark/spark-cassandra-connector_2.12/3.4.0/spark-cassandra-connector_2.12-3.4.0.jar ...\n"
     ]
    },
    {
     "name": "stderr",
     "output_type": "stream",
     "text": [
      "\t[SUCCESSFUL ] com.datastax.spark#spark-cassandra-connector_2.12;3.4.0!spark-cassandra-connector_2.12.jar (190ms)\n",
      "downloading https://repo1.maven.org/maven2/com/datastax/spark/spark-cassandra-connector-driver_2.12/3.4.0/spark-cassandra-connector-driver_2.12-3.4.0.jar ...\n",
      "\t[SUCCESSFUL ] com.datastax.spark#spark-cassandra-connector-driver_2.12;3.4.0!spark-cassandra-connector-driver_2.12.jar (111ms)\n",
      "downloading https://repo1.maven.org/maven2/com/datastax/oss/java-driver-core-shaded/4.13.0/java-driver-core-shaded-4.13.0.jar ...\n"
     ]
    },
    {
     "name": "stderr",
     "output_type": "stream",
     "text": [
      "\t[SUCCESSFUL ] com.datastax.oss#java-driver-core-shaded;4.13.0!java-driver-core-shaded.jar (288ms)\n",
      "downloading https://repo1.maven.org/maven2/com/datastax/oss/java-driver-mapper-runtime/4.13.0/java-driver-mapper-runtime-4.13.0.jar ...\n",
      "\t[SUCCESSFUL ] com.datastax.oss#java-driver-mapper-runtime;4.13.0!java-driver-mapper-runtime.jar(bundle) (30ms)\n",
      "downloading https://repo1.maven.org/maven2/org/apache/commons/commons-lang3/3.10/commons-lang3-3.10.jar ...\n",
      "\t[SUCCESSFUL ] org.apache.commons#commons-lang3;3.10!commons-lang3.jar (67ms)\n",
      "downloading https://repo1.maven.org/maven2/com/thoughtworks/paranamer/paranamer/2.8/paranamer-2.8.jar ...\n",
      "\t[SUCCESSFUL ] com.thoughtworks.paranamer#paranamer;2.8!paranamer.jar(bundle) (30ms)\n",
      "downloading https://repo1.maven.org/maven2/org/scala-lang/scala-reflect/2.12.11/scala-reflect-2.12.11.jar ...\n"
     ]
    },
    {
     "name": "stderr",
     "output_type": "stream",
     "text": [
      "\t[SUCCESSFUL ] org.scala-lang#scala-reflect;2.12.11!scala-reflect.jar (145ms)\n",
      "downloading https://repo1.maven.org/maven2/com/datastax/oss/native-protocol/1.5.0/native-protocol-1.5.0.jar ...\n",
      "\t[SUCCESSFUL ] com.datastax.oss#native-protocol;1.5.0!native-protocol.jar(bundle) (51ms)\n",
      "downloading https://repo1.maven.org/maven2/com/datastax/oss/java-driver-shaded-guava/25.1-jre-graal-sub-1/java-driver-shaded-guava-25.1-jre-graal-sub-1.jar ...\n",
      "\t[SUCCESSFUL ] com.datastax.oss#java-driver-shaded-guava;25.1-jre-graal-sub-1!java-driver-shaded-guava.jar (126ms)\n",
      "downloading https://repo1.maven.org/maven2/com/typesafe/config/1.4.1/config-1.4.1.jar ...\n"
     ]
    },
    {
     "name": "stderr",
     "output_type": "stream",
     "text": [
      "\t[SUCCESSFUL ] com.typesafe#config;1.4.1!config.jar(bundle) (30ms)\n",
      "downloading https://repo1.maven.org/maven2/org/slf4j/slf4j-api/1.7.26/slf4j-api-1.7.26.jar ...\n",
      "\t[SUCCESSFUL ] org.slf4j#slf4j-api;1.7.26!slf4j-api.jar (27ms)\n",
      "downloading https://repo1.maven.org/maven2/io/dropwizard/metrics/metrics-core/4.1.18/metrics-core-4.1.18.jar ...\n",
      "\t[SUCCESSFUL ] io.dropwizard.metrics#metrics-core;4.1.18!metrics-core.jar(bundle) (30ms)\n",
      "downloading https://repo1.maven.org/maven2/org/hdrhistogram/HdrHistogram/2.1.12/HdrHistogram-2.1.12.jar ...\n",
      "\t[SUCCESSFUL ] org.hdrhistogram#HdrHistogram;2.1.12!HdrHistogram.jar(bundle) (31ms)\n",
      "downloading https://repo1.maven.org/maven2/org/reactivestreams/reactive-streams/1.0.3/reactive-streams-1.0.3.jar ...\n",
      "\t[SUCCESSFUL ] org.reactivestreams#reactive-streams;1.0.3!reactive-streams.jar (26ms)\n",
      "downloading https://repo1.maven.org/maven2/com/github/stephenc/jcip/jcip-annotations/1.0-1/jcip-annotations-1.0-1.jar ...\n",
      "\t[SUCCESSFUL ] com.github.stephenc.jcip#jcip-annotations;1.0-1!jcip-annotations.jar (25ms)\n",
      "downloading https://repo1.maven.org/maven2/com/github/spotbugs/spotbugs-annotations/3.1.12/spotbugs-annotations-3.1.12.jar ...\n",
      "\t[SUCCESSFUL ] com.github.spotbugs#spotbugs-annotations;3.1.12!spotbugs-annotations.jar (28ms)\n",
      "downloading https://repo1.maven.org/maven2/com/google/code/findbugs/jsr305/3.0.2/jsr305-3.0.2.jar ...\n"
     ]
    },
    {
     "name": "stderr",
     "output_type": "stream",
     "text": [
      "\t[SUCCESSFUL ] com.google.code.findbugs#jsr305;3.0.2!jsr305.jar (29ms)\n",
      "downloading https://repo1.maven.org/maven2/com/datastax/oss/java-driver-query-builder/4.13.0/java-driver-query-builder-4.13.0.jar ...\n",
      "\t[SUCCESSFUL ] com.datastax.oss#java-driver-query-builder;4.13.0!java-driver-query-builder.jar(bundle) (31ms)\n",
      ":: resolution report :: resolve 4745ms :: artifacts dl 1329ms\n",
      "\t:: modules in use:\n",
      "\tcom.datastax.oss#java-driver-core-shaded;4.13.0 from central in [default]\n",
      "\tcom.datastax.oss#java-driver-mapper-runtime;4.13.0 from central in [default]\n",
      "\tcom.datastax.oss#java-driver-query-builder;4.13.0 from central in [default]\n",
      "\tcom.datastax.oss#java-driver-shaded-guava;25.1-jre-graal-sub-1 from central in [default]\n",
      "\tcom.datastax.oss#native-protocol;1.5.0 from central in [default]\n",
      "\tcom.datastax.spark#spark-cassandra-connector-driver_2.12;3.4.0 from central in [default]\n",
      "\tcom.datastax.spark#spark-cassandra-connector_2.12;3.4.0 from central in [default]\n",
      "\tcom.github.spotbugs#spotbugs-annotations;3.1.12 from central in [default]\n",
      "\tcom.github.stephenc.jcip#jcip-annotations;1.0-1 from central in [default]\n",
      "\tcom.google.code.findbugs#jsr305;3.0.2 from central in [default]\n",
      "\tcom.thoughtworks.paranamer#paranamer;2.8 from central in [default]\n",
      "\tcom.typesafe#config;1.4.1 from central in [default]\n",
      "\tio.dropwizard.metrics#metrics-core;4.1.18 from central in [default]\n",
      "\torg.apache.commons#commons-lang3;3.10 from central in [default]\n",
      "\torg.hdrhistogram#HdrHistogram;2.1.12 from central in [default]\n",
      "\torg.reactivestreams#reactive-streams;1.0.3 from central in [default]\n",
      "\torg.scala-lang#scala-reflect;2.12.11 from central in [default]\n",
      "\torg.slf4j#slf4j-api;1.7.26 from central in [default]\n",
      "\t---------------------------------------------------------------------\n",
      "\t|                  |            modules            ||   artifacts   |\n",
      "\t|       conf       | number| search|dwnlded|evicted|| number|dwnlded|\n",
      "\t---------------------------------------------------------------------\n",
      "\t|      default     |   18  |   18  |   18  |   0   ||   18  |   18  |\n",
      "\t---------------------------------------------------------------------\n",
      ":: retrieving :: org.apache.spark#spark-submit-parent-9fe4a25a-ff29-49da-ad44-d9c207c0fa09\n",
      "\tconfs: [default]\n",
      "\t18 artifacts copied, 0 already retrieved (18067kB/84ms)\n"
     ]
    },
    {
     "name": "stderr",
     "output_type": "stream",
     "text": [
      "23/11/23 02:02:41 WARN NativeCodeLoader: Unable to load native-hadoop library for your platform... using builtin-java classes where applicable\n"
     ]
    },
    {
     "name": "stderr",
     "output_type": "stream",
     "text": [
      "Setting default log level to \"WARN\".\n",
      "To adjust logging level use sc.setLogLevel(newLevel). For SparkR, use setLogLevel(newLevel).\n"
     ]
    }
   ],
   "source": [
    "from pyspark.sql import SparkSession\n",
    "spark = (SparkSession.builder\n",
    "         .appName(\"p6\")\n",
    "         .config('spark.jars.packages', 'com.datastax.spark:spark-cassandra-connector_2.12:3.4.0')\n",
    "         .config(\"spark.sql.extensions\", \"com.datastax.spark.connector.CassandraSparkExtensions\")\n",
    "         .getOrCreate())"
   ]
  },
  {
   "cell_type": "code",
   "execution_count": 6,
   "id": "84ba1329-5775-4745-a9d6-bdab5f63486f",
   "metadata": {
    "execution": {
     "iopub.execute_input": "2023-11-23T02:02:45.829133Z",
     "iopub.status.busy": "2023-11-23T02:02:45.828468Z",
     "iopub.status.idle": "2023-11-23T02:02:50.667960Z",
     "shell.execute_reply": "2023-11-23T02:02:50.666543Z"
    }
   },
   "outputs": [],
   "source": [
    "df = spark.read.format(\"text\").load(\"./ghcnd-stations.txt\")"
   ]
  },
  {
   "cell_type": "code",
   "execution_count": 7,
   "id": "2f699510-56af-463f-8595-51c123e351f7",
   "metadata": {
    "execution": {
     "iopub.execute_input": "2023-11-23T02:02:50.674801Z",
     "iopub.status.busy": "2023-11-23T02:02:50.674150Z",
     "iopub.status.idle": "2023-11-23T02:03:13.297697Z",
     "shell.execute_reply": "2023-11-23T02:03:13.289057Z"
    }
   },
   "outputs": [
    {
     "name": "stdout",
     "output_type": "stream",
     "text": [
      "DataFrame[ID: string, STATE: string, NAME: string]\n"
     ]
    },
    {
     "name": "stderr",
     "output_type": "stream",
     "text": [
      "\r",
      "[Stage 0:>                                                          (0 + 2) / 2]\r"
     ]
    },
    {
     "name": "stderr",
     "output_type": "stream",
     "text": [
      "\r",
      "                                                                                \r"
     ]
    }
   ],
   "source": [
    "from pyspark.sql.functions import substring\n",
    "import pandas as pd\n",
    "\n",
    "df_new = df.withColumn(\"ID\", substring(\"value\", 1, 11)).withColumn(\"STATE\", substring(\"value\", 39, 2)) \\\n",
    "    .withColumn(\"NAME\", substring(\"value\", 42, 30)).drop(\"value\")\n",
    "df_new = df_new[df_new['STATE']=='WI']\n",
    "print(df_new)\n",
    "\n",
    "cass.execute(\"truncate table weather.stations\")\n",
    "\n",
    "insert_stations = cass.prepare(\"INSERT INTO weather.stations (id, name) VALUES (?, ?)\")\n",
    "for row in df_new.collect():\n",
    "    id_, name_ = row['ID'], row['NAME']\n",
    "    cass.execute(insert_stations, (id_, name_))\n",
    "# pd.DataFrame(cass.execute(\"select count(*) from weather.stations\"))"
   ]
  },
  {
   "cell_type": "code",
   "execution_count": 8,
   "id": "81c73339-0695-4ad1-baa5-e2b4c740a2c6",
   "metadata": {
    "execution": {
     "iopub.execute_input": "2023-11-23T02:03:13.327714Z",
     "iopub.status.busy": "2023-11-23T02:03:13.327223Z",
     "iopub.status.idle": "2023-11-23T02:03:13.587785Z",
     "shell.execute_reply": "2023-11-23T02:03:13.586575Z"
    }
   },
   "outputs": [
    {
     "data": {
      "text/html": [
       "<div>\n",
       "<style scoped>\n",
       "    .dataframe tbody tr th:only-of-type {\n",
       "        vertical-align: middle;\n",
       "    }\n",
       "\n",
       "    .dataframe tbody tr th {\n",
       "        vertical-align: top;\n",
       "    }\n",
       "\n",
       "    .dataframe thead th {\n",
       "        text-align: right;\n",
       "    }\n",
       "</style>\n",
       "<table border=\"1\" class=\"dataframe\">\n",
       "  <thead>\n",
       "    <tr style=\"text-align: right;\">\n",
       "      <th></th>\n",
       "      <th>id</th>\n",
       "      <th>date</th>\n",
       "      <th>name</th>\n",
       "      <th>record</th>\n",
       "    </tr>\n",
       "  </thead>\n",
       "  <tbody>\n",
       "    <tr>\n",
       "      <th>0</th>\n",
       "      <td>USC00479053</td>\n",
       "      <td>None</td>\n",
       "      <td>W BEND FIRE STN #2</td>\n",
       "      <td>None</td>\n",
       "    </tr>\n",
       "    <tr>\n",
       "      <th>1</th>\n",
       "      <td>USC00476398</td>\n",
       "      <td>None</td>\n",
       "      <td>PARK FALLS DNR HQ</td>\n",
       "      <td>None</td>\n",
       "    </tr>\n",
       "    <tr>\n",
       "      <th>2</th>\n",
       "      <td>USC00470268</td>\n",
       "      <td>None</td>\n",
       "      <td>APPOLONIA</td>\n",
       "      <td>None</td>\n",
       "    </tr>\n",
       "    <tr>\n",
       "      <th>3</th>\n",
       "      <td>USC00474110</td>\n",
       "      <td>None</td>\n",
       "      <td>JUNEAU</td>\n",
       "      <td>None</td>\n",
       "    </tr>\n",
       "    <tr>\n",
       "      <th>4</th>\n",
       "      <td>USC00475525</td>\n",
       "      <td>None</td>\n",
       "      <td>MINONG 5 WSW</td>\n",
       "      <td>None</td>\n",
       "    </tr>\n",
       "    <tr>\n",
       "      <th>...</th>\n",
       "      <td>...</td>\n",
       "      <td>...</td>\n",
       "      <td>...</td>\n",
       "      <td>...</td>\n",
       "    </tr>\n",
       "    <tr>\n",
       "      <th>1308</th>\n",
       "      <td>USC00479050</td>\n",
       "      <td>None</td>\n",
       "      <td>WEST BEND</td>\n",
       "      <td>None</td>\n",
       "    </tr>\n",
       "    <tr>\n",
       "      <th>1309</th>\n",
       "      <td>US1WIPC0004</td>\n",
       "      <td>None</td>\n",
       "      <td>RIVER FALLS 3.0 SE</td>\n",
       "      <td>None</td>\n",
       "    </tr>\n",
       "    <tr>\n",
       "      <th>1310</th>\n",
       "      <td>US1WIWK0016</td>\n",
       "      <td>None</td>\n",
       "      <td>MUSKEGO 1.0 W</td>\n",
       "      <td>None</td>\n",
       "    </tr>\n",
       "    <tr>\n",
       "      <th>1311</th>\n",
       "      <td>US1WIWK0086</td>\n",
       "      <td>None</td>\n",
       "      <td>WALES 0.4 NW</td>\n",
       "      <td>None</td>\n",
       "    </tr>\n",
       "    <tr>\n",
       "      <th>1312</th>\n",
       "      <td>USC00475471</td>\n",
       "      <td>None</td>\n",
       "      <td>MIDDLETON</td>\n",
       "      <td>None</td>\n",
       "    </tr>\n",
       "  </tbody>\n",
       "</table>\n",
       "<p>1313 rows × 4 columns</p>\n",
       "</div>"
      ],
      "text/plain": [
       "               id  date                            name record\n",
       "0     USC00479053  None  W BEND FIRE STN #2               None\n",
       "1     USC00476398  None  PARK FALLS DNR HQ                None\n",
       "2     USC00470268  None  APPOLONIA                        None\n",
       "3     USC00474110  None  JUNEAU                           None\n",
       "4     USC00475525  None  MINONG 5 WSW                     None\n",
       "...           ...   ...                             ...    ...\n",
       "1308  USC00479050  None  WEST BEND                        None\n",
       "1309  US1WIPC0004  None  RIVER FALLS 3.0 SE               None\n",
       "1310  US1WIWK0016  None  MUSKEGO 1.0 W                    None\n",
       "1311  US1WIWK0086  None  WALES 0.4 NW                     None\n",
       "1312  USC00475471  None  MIDDLETON                        None\n",
       "\n",
       "[1313 rows x 4 columns]"
      ]
     },
     "execution_count": 8,
     "metadata": {},
     "output_type": "execute_result"
    }
   ],
   "source": [
    "import pandas as pd\n",
    "pd.DataFrame(cass.execute(\"select * from weather.stations\"))"
   ]
  },
  {
   "cell_type": "code",
   "execution_count": 9,
   "id": "dcc9e95a-5fcc-4a2e-a4d8-09069cf8892d",
   "metadata": {
    "execution": {
     "iopub.execute_input": "2023-11-23T02:03:13.592097Z",
     "iopub.status.busy": "2023-11-23T02:03:13.591755Z",
     "iopub.status.idle": "2023-11-23T02:03:13.850198Z",
     "shell.execute_reply": "2023-11-23T02:03:13.848818Z"
    }
   },
   "outputs": [
    {
     "data": {
      "text/plain": [
       "[Row(count=1313)]"
      ]
     },
     "execution_count": 9,
     "metadata": {},
     "output_type": "execute_result"
    }
   ],
   "source": [
    "cass.execute(\"SELECT COUNT(*) FROM weather.stations\").all() # 1313"
   ]
  },
  {
   "cell_type": "code",
   "execution_count": 10,
   "id": "7b301832-c320-4e19-b2b0-f11f1fc1c67e",
   "metadata": {
    "execution": {
     "iopub.execute_input": "2023-11-23T02:03:13.856317Z",
     "iopub.status.busy": "2023-11-23T02:03:13.855410Z",
     "iopub.status.idle": "2023-11-23T02:03:13.889361Z",
     "shell.execute_reply": "2023-11-23T02:03:13.887540Z"
    }
   },
   "outputs": [
    {
     "data": {
      "text/plain": [
       "0    MADISON DANE CO RGNL AP       \n",
       "Name: name, dtype: object"
      ]
     },
     "execution_count": 10,
     "metadata": {},
     "output_type": "execute_result"
    }
   ],
   "source": [
    "#q2\n",
    "pd.DataFrame(cass.execute(\"\"\"SELECT name FROM weather.stations WHERE id = 'USW00014837'\"\"\"))['name']"
   ]
  },
  {
   "cell_type": "code",
   "execution_count": 11,
   "id": "108f23bd-7416-4ffc-972a-f48cc8c88926",
   "metadata": {
    "execution": {
     "iopub.execute_input": "2023-11-23T02:03:13.899561Z",
     "iopub.status.busy": "2023-11-23T02:03:13.897201Z",
     "iopub.status.idle": "2023-11-23T02:03:14.195182Z",
     "shell.execute_reply": "2023-11-23T02:03:14.193371Z"
    }
   },
   "outputs": [
    {
     "data": {
      "text/plain": [
       "-9014250178872933741"
      ]
     },
     "execution_count": 11,
     "metadata": {},
     "output_type": "execute_result"
    }
   ],
   "source": [
    "#q3\n",
    "\n",
    "token = pd.DataFrame(cass.execute(\"SELECT token(id) FROM weather.stations WHERE id = 'USC00470273'\"))['system_token_id'][0]\n",
    "token"
   ]
  },
  {
   "cell_type": "code",
   "execution_count": 12,
   "id": "2b17dada-4962-4089-8aef-e55795fc9dbe",
   "metadata": {
    "execution": {
     "iopub.execute_input": "2023-11-23T02:03:14.200901Z",
     "iopub.status.busy": "2023-11-23T02:03:14.199737Z",
     "iopub.status.idle": "2023-11-23T02:03:17.136439Z",
     "shell.execute_reply": "2023-11-23T02:03:17.135078Z"
    }
   },
   "outputs": [
    {
     "data": {
      "text/plain": [
       "-8897995659956756393"
      ]
     },
     "execution_count": 12,
     "metadata": {},
     "output_type": "execute_result"
    }
   ],
   "source": [
    "#q4\n",
    "\n",
    "import subprocess\n",
    "import re\n",
    "\n",
    "output = subprocess.check_output([\"nodetool\", \"ring\"], universal_newlines=True)\n",
    "lines = output.split('\\n')\n",
    "# print(lines[5])\n",
    "vnode_tokens = []\n",
    "for l in range(len(lines)):\n",
    "    if l<=3:\n",
    "        continue\n",
    "    if lines[l]=='':\n",
    "        break\n",
    "    vnode_tokens.append(int(lines[l][80:110]))\n",
    "vnode_tokens.sort()\n",
    "\n",
    "vnode = None\n",
    "for vnode_token in vnode_tokens:\n",
    "    # print(vnode_token, token)\n",
    "    if vnode_token >= token:\n",
    "        # print(True)\n",
    "        vnode = vnode_token\n",
    "        break\n",
    "if vnode == None:\n",
    "    vnode = vnode_tokens[0]\n",
    "\n",
    "vnode"
   ]
  },
  {
   "cell_type": "code",
   "execution_count": 13,
   "id": "e00fe0ec-471e-4576-895d-ac17e74b9edb",
   "metadata": {
    "execution": {
     "iopub.execute_input": "2023-11-23T02:03:28.153842Z",
     "iopub.status.busy": "2023-11-23T02:03:28.152632Z",
     "iopub.status.idle": "2023-11-23T02:03:30.752125Z",
     "shell.execute_reply": "2023-11-23T02:03:30.750453Z"
    }
   },
   "outputs": [
    {
     "name": "stdout",
     "output_type": "stream",
     "text": [
      "\r",
      "Reading package lists... 0%\r"
     ]
    },
    {
     "name": "stdout",
     "output_type": "stream",
     "text": [
      "\r",
      "Reading package lists... 0%\r",
      "\r",
      "Reading package lists... 0%\r"
     ]
    },
    {
     "name": "stdout",
     "output_type": "stream",
     "text": [
      "\r",
      "Reading package lists... 6%\r",
      "\r",
      "Reading package lists... 6%\r"
     ]
    },
    {
     "name": "stdout",
     "output_type": "stream",
     "text": [
      "\r",
      "Reading package lists... 6%\r",
      "\r",
      "Reading package lists... 6%\r"
     ]
    },
    {
     "name": "stdout",
     "output_type": "stream",
     "text": [
      "\r",
      "Reading package lists... 51%\r"
     ]
    },
    {
     "name": "stdout",
     "output_type": "stream",
     "text": [
      "\r",
      "Reading package lists... 64%\r",
      "\r",
      "Reading package lists... 64%\r"
     ]
    },
    {
     "name": "stdout",
     "output_type": "stream",
     "text": [
      "\r",
      "Reading package lists... 65%\r",
      "\r",
      "Reading package lists... 65%\r"
     ]
    },
    {
     "name": "stdout",
     "output_type": "stream",
     "text": [
      "\r",
      "Reading package lists... 71%\r",
      "\r",
      "Reading package lists... 71%\r"
     ]
    },
    {
     "name": "stdout",
     "output_type": "stream",
     "text": [
      "\r",
      "Reading package lists... 77%\r",
      "\r",
      "Reading package lists... 77%\r"
     ]
    },
    {
     "name": "stdout",
     "output_type": "stream",
     "text": [
      "\r",
      "Reading package lists... 83%\r",
      "\r",
      "Reading package lists... 83%\r",
      "\r",
      "Reading package lists... 83%\r",
      "\r",
      "Reading package lists... 83%\r",
      "\r",
      "Reading package lists... 83%\r",
      "\r",
      "Reading package lists... 83%\r",
      "\r",
      "Reading package lists... 83%\r",
      "\r",
      "Reading package lists... 83%\r"
     ]
    },
    {
     "name": "stdout",
     "output_type": "stream",
     "text": [
      "\r",
      "Reading package lists... 88%\r",
      "\r",
      "Reading package lists... 88%\r",
      "\r",
      "Reading package lists... 94%\r",
      "\r",
      "Reading package lists... 94%\r"
     ]
    },
    {
     "name": "stdout",
     "output_type": "stream",
     "text": [
      "\r",
      "Reading package lists... 99%\r",
      "\r",
      "Reading package lists... 99%\r",
      "\r",
      "Reading package lists... 99%\r",
      "\r",
      "Reading package lists... 99%\r",
      "\r",
      "Reading package lists... Done\r",
      "\r\n"
     ]
    },
    {
     "name": "stdout",
     "output_type": "stream",
     "text": [
      "\r",
      "Building dependency tree... 0%\r",
      "\r",
      "Building dependency tree... 0%\r",
      "\r",
      "Building dependency tree... 20%\r"
     ]
    },
    {
     "name": "stdout",
     "output_type": "stream",
     "text": [
      "\r",
      "Building dependency tree... 50%\r",
      "\r",
      "Building dependency tree... 50%\r"
     ]
    },
    {
     "name": "stdout",
     "output_type": "stream",
     "text": [
      "\r",
      "Building dependency tree... Done\r",
      "\r\n",
      "\r",
      "Reading state information... 0% \r",
      "\r",
      "Reading state information... 0%\r",
      "\r",
      "Reading state information... Done\r",
      "\r\n",
      "unzip is already the newest version (6.0-26ubuntu3.1).\r\n"
     ]
    },
    {
     "name": "stdout",
     "output_type": "stream",
     "text": [
      "0 upgraded, 0 newly installed, 0 to remove and 11 not upgraded.\r\n"
     ]
    },
    {
     "name": "stdout",
     "output_type": "stream",
     "text": [
      "Archive:  records.zip\r\n",
      "   creating: records.parquet/\r\n",
      "  inflating: records.parquet/part-00000-574ab704-2431-4c8b-9d88-6c635a467b99-c000.snappy.parquet  \r\n",
      " extracting: records.parquet/._SUCCESS.crc  \r\n",
      "  inflating: records.parquet/part-00002-574ab704-2431-4c8b-9d88-6c635a467b99-c000.snappy.parquet  \r\n",
      "  inflating: records.parquet/part-00001-574ab704-2431-4c8b-9d88-6c635a467b99-c000.snappy.parquet  \r\n",
      "  inflating: records.parquet/part-00003-574ab704-2431-4c8b-9d88-6c635a467b99-c000.snappy.parquet  \r\n",
      " extracting: records.parquet/.part-00003-574ab704-2431-4c8b-9d88-6c635a467b99-c000.snappy.parquet.crc  \r\n",
      " extracting: records.parquet/_SUCCESS  \r\n",
      " extracting: records.parquet/.part-00000-574ab704-2431-4c8b-9d88-6c635a467b99-c000.snappy.parquet.crc  \r\n",
      " extracting: records.parquet/.part-00001-574ab704-2431-4c8b-9d88-6c635a467b99-c000.snappy.parquet.crc  \r\n",
      " extracting: records.parquet/.part-00002-574ab704-2431-4c8b-9d88-6c635a467b99-c000.snappy.parquet.crc  \r\n"
     ]
    }
   ],
   "source": [
    "!rm -rf records.parquet\n",
    "!apt install unzip\n",
    "!unzip records.zip "
   ]
  },
  {
   "cell_type": "code",
   "execution_count": 14,
   "id": "303d3c1b-385a-4968-a860-23ad29cc300e",
   "metadata": {
    "execution": {
     "iopub.execute_input": "2023-11-23T02:03:30.758195Z",
     "iopub.status.busy": "2023-11-23T02:03:30.757763Z",
     "iopub.status.idle": "2023-11-23T02:03:31.132554Z",
     "shell.execute_reply": "2023-11-23T02:03:31.130668Z"
    }
   },
   "outputs": [],
   "source": [
    "!python3 -m grpc_tools.protoc -I=. --python_out=. --grpc_python_out=. station.proto"
   ]
  },
  {
   "cell_type": "code",
   "execution_count": 15,
   "id": "e2fb1a28-d1cb-4bba-a6e5-f1733f74fc7f",
   "metadata": {
    "execution": {
     "iopub.execute_input": "2023-11-23T02:03:31.140586Z",
     "iopub.status.busy": "2023-11-23T02:03:31.139066Z",
     "iopub.status.idle": "2023-11-23T02:03:33.744482Z",
     "shell.execute_reply": "2023-11-23T02:03:33.742843Z"
    }
   },
   "outputs": [
    {
     "name": "stderr",
     "output_type": "stream",
     "text": [
      "\r",
      "[Stage 1:>                                                          (0 + 1) / 1]\r"
     ]
    },
    {
     "name": "stderr",
     "output_type": "stream",
     "text": [
      "\r",
      "                                                                                \r"
     ]
    },
    {
     "name": "stderr",
     "output_type": "stream",
     "text": [
      "\r",
      "[Stage 2:>                                                          (0 + 1) / 1]\r",
      "\r",
      "                                                                                \r"
     ]
    },
    {
     "name": "stdout",
     "output_type": "stream",
     "text": [
      "+-----------+--------+-------+------+\n",
      "|    station|    date|element| value|\n",
      "+-----------+--------+-------+------+\n",
      "|USW00014898|20220101|   TMAX| -32.0|\n",
      "|USW00014898|20220102|   TMAX| -77.0|\n",
      "|USW00014898|20220103|   TMAX| -60.0|\n",
      "|USW00014898|20220104|   TMAX|   0.0|\n",
      "|USW00014898|20220105|   TMAX| -16.0|\n",
      "|USW00014898|20220106|   TMAX| -71.0|\n",
      "|USW00014898|20220107|   TMAX| -71.0|\n",
      "|USW00014898|20220108|   TMAX| -32.0|\n",
      "|USW00014898|20220109|   TMAX| -27.0|\n",
      "|USW00014898|20220110|   TMAX|-149.0|\n",
      "|USW00014898|20220111|   TMAX| -16.0|\n",
      "|USW00014898|20220112|   TMAX|   6.0|\n",
      "|USW00014898|20220113|   TMAX|  11.0|\n",
      "|USW00014898|20220114|   TMAX| -77.0|\n",
      "|USW00014898|20220115|   TMAX| -99.0|\n",
      "|USW00014898|20220116|   TMAX| -60.0|\n",
      "|USW00014898|20220117|   TMAX| -21.0|\n",
      "|USW00014898|20220118|   TMAX|  28.0|\n",
      "|USW00014898|20220119|   TMAX|  28.0|\n",
      "|USW00014898|20220120|   TMAX|-121.0|\n",
      "+-----------+--------+-------+------+\n",
      "only showing top 20 rows\n",
      "\n"
     ]
    }
   ],
   "source": [
    "records_df = spark.read.parquet(\"records.parquet\")\n",
    "\n",
    "records_df.show()"
   ]
  },
  {
   "cell_type": "code",
   "execution_count": 16,
   "id": "5a9784fb-ef42-4ea0-bfdd-2543b99ef85b",
   "metadata": {
    "execution": {
     "iopub.execute_input": "2023-11-23T02:03:33.751166Z",
     "iopub.status.busy": "2023-11-23T02:03:33.750571Z",
     "iopub.status.idle": "2023-11-23T02:03:37.226505Z",
     "shell.execute_reply": "2023-11-23T02:03:37.223799Z"
    }
   },
   "outputs": [
    {
     "name": "stderr",
     "output_type": "stream",
     "text": [
      "\r",
      "[Stage 3:>                                                          (0 + 2) / 2]\r"
     ]
    },
    {
     "name": "stderr",
     "output_type": "stream",
     "text": [
      "\r",
      "[Stage 5:>                                                          (0 + 1) / 1]\r"
     ]
    },
    {
     "name": "stdout",
     "output_type": "stream",
     "text": [
      "+-----------+--------+------+------+\n",
      "|    station|    date|  TMAX|  TMIN|\n",
      "+-----------+--------+------+------+\n",
      "|USW00014898|20220107| -71.0|-166.0|\n",
      "|USW00014839|20220924| 194.0| 117.0|\n",
      "|USW00014839|20220523| 150.0|  83.0|\n",
      "|USW00014839|20221019|  83.0|  11.0|\n",
      "|USW00014839|20220529| 261.0| 139.0|\n",
      "|USR0000WDDG|20221130| -39.0|-106.0|\n",
      "|USR0000WDDG|20220119| -56.0|-178.0|\n",
      "|USW00014837|20220222| -38.0| -88.0|\n",
      "|USR0000WDDG|20220202|-106.0|-150.0|\n",
      "|USW00014839|20220427|  39.0|   0.0|\n",
      "|USW00014839|20220708| 222.0| 189.0|\n",
      "|USW00014839|20220917| 294.0| 200.0|\n",
      "|USW00014837|20220624| 322.0| 200.0|\n",
      "|USW00014898|20220129| -60.0|-116.0|\n",
      "|USW00014839|20220715| 233.0| 156.0|\n",
      "|USR0000WDDG|20220224| -61.0|-128.0|\n",
      "|USR0000WDDG|20220130| -33.0|-117.0|\n",
      "|USR0000WDDG|20220414|  50.0| -17.0|\n",
      "|USW00014898|20220728| 256.0| 156.0|\n",
      "|USW00014837|20220906| 256.0| 117.0|\n",
      "+-----------+--------+------+------+\n",
      "only showing top 20 rows\n",
      "\n"
     ]
    },
    {
     "name": "stderr",
     "output_type": "stream",
     "text": [
      "\r",
      "                                                                                \r"
     ]
    }
   ],
   "source": [
    "records_df = records_df.groupBy(\"station\", \"date\").pivot(\"element\", [\"TMAX\", \"TMIN\"]).sum(\"value\")\n",
    "records_df.show()"
   ]
  },
  {
   "cell_type": "code",
   "execution_count": 17,
   "id": "acca32df-c68a-4541-978f-c5558009d469",
   "metadata": {
    "execution": {
     "iopub.execute_input": "2023-11-23T02:03:37.232444Z",
     "iopub.status.busy": "2023-11-23T02:03:37.231903Z",
     "iopub.status.idle": "2023-11-23T02:03:38.430332Z",
     "shell.execute_reply": "2023-11-23T02:03:38.429120Z"
    }
   },
   "outputs": [
    {
     "data": {
      "text/html": [
       "<div>\n",
       "<style scoped>\n",
       "    .dataframe tbody tr th:only-of-type {\n",
       "        vertical-align: middle;\n",
       "    }\n",
       "\n",
       "    .dataframe tbody tr th {\n",
       "        vertical-align: top;\n",
       "    }\n",
       "\n",
       "    .dataframe thead th {\n",
       "        text-align: right;\n",
       "    }\n",
       "</style>\n",
       "<table border=\"1\" class=\"dataframe\">\n",
       "  <thead>\n",
       "    <tr style=\"text-align: right;\">\n",
       "      <th></th>\n",
       "      <th>station</th>\n",
       "      <th>date</th>\n",
       "      <th>TMAX</th>\n",
       "      <th>TMIN</th>\n",
       "    </tr>\n",
       "  </thead>\n",
       "  <tbody>\n",
       "    <tr>\n",
       "      <th>0</th>\n",
       "      <td>USW00014898</td>\n",
       "      <td>20220107</td>\n",
       "      <td>-71.0</td>\n",
       "      <td>-166.0</td>\n",
       "    </tr>\n",
       "    <tr>\n",
       "      <th>1</th>\n",
       "      <td>USW00014839</td>\n",
       "      <td>20220924</td>\n",
       "      <td>194.0</td>\n",
       "      <td>117.0</td>\n",
       "    </tr>\n",
       "    <tr>\n",
       "      <th>2</th>\n",
       "      <td>USW00014839</td>\n",
       "      <td>20220523</td>\n",
       "      <td>150.0</td>\n",
       "      <td>83.0</td>\n",
       "    </tr>\n",
       "    <tr>\n",
       "      <th>3</th>\n",
       "      <td>USW00014839</td>\n",
       "      <td>20221019</td>\n",
       "      <td>83.0</td>\n",
       "      <td>11.0</td>\n",
       "    </tr>\n",
       "    <tr>\n",
       "      <th>4</th>\n",
       "      <td>USW00014839</td>\n",
       "      <td>20220529</td>\n",
       "      <td>261.0</td>\n",
       "      <td>139.0</td>\n",
       "    </tr>\n",
       "    <tr>\n",
       "      <th>...</th>\n",
       "      <td>...</td>\n",
       "      <td>...</td>\n",
       "      <td>...</td>\n",
       "      <td>...</td>\n",
       "    </tr>\n",
       "    <tr>\n",
       "      <th>1455</th>\n",
       "      <td>USW00014898</td>\n",
       "      <td>20220724</td>\n",
       "      <td>278.0</td>\n",
       "      <td>167.0</td>\n",
       "    </tr>\n",
       "    <tr>\n",
       "      <th>1456</th>\n",
       "      <td>USW00014837</td>\n",
       "      <td>20221004</td>\n",
       "      <td>222.0</td>\n",
       "      <td>50.0</td>\n",
       "    </tr>\n",
       "    <tr>\n",
       "      <th>1457</th>\n",
       "      <td>USW00014837</td>\n",
       "      <td>20221107</td>\n",
       "      <td>94.0</td>\n",
       "      <td>17.0</td>\n",
       "    </tr>\n",
       "    <tr>\n",
       "      <th>1458</th>\n",
       "      <td>USW00014898</td>\n",
       "      <td>20221006</td>\n",
       "      <td>200.0</td>\n",
       "      <td>56.0</td>\n",
       "    </tr>\n",
       "    <tr>\n",
       "      <th>1459</th>\n",
       "      <td>USR0000WDDG</td>\n",
       "      <td>20221021</td>\n",
       "      <td>239.0</td>\n",
       "      <td>72.0</td>\n",
       "    </tr>\n",
       "  </tbody>\n",
       "</table>\n",
       "<p>1460 rows × 4 columns</p>\n",
       "</div>"
      ],
      "text/plain": [
       "          station      date   TMAX   TMIN\n",
       "0     USW00014898  20220107  -71.0 -166.0\n",
       "1     USW00014839  20220924  194.0  117.0\n",
       "2     USW00014839  20220523  150.0   83.0\n",
       "3     USW00014839  20221019   83.0   11.0\n",
       "4     USW00014839  20220529  261.0  139.0\n",
       "...           ...       ...    ...    ...\n",
       "1455  USW00014898  20220724  278.0  167.0\n",
       "1456  USW00014837  20221004  222.0   50.0\n",
       "1457  USW00014837  20221107   94.0   17.0\n",
       "1458  USW00014898  20221006  200.0   56.0\n",
       "1459  USR0000WDDG  20221021  239.0   72.0\n",
       "\n",
       "[1460 rows x 4 columns]"
      ]
     },
     "execution_count": 17,
     "metadata": {},
     "output_type": "execute_result"
    }
   ],
   "source": [
    "records_df.toPandas()"
   ]
  },
  {
   "cell_type": "code",
   "execution_count": 18,
   "id": "778b0d06-d231-4f08-888d-f8c481d6c8f2",
   "metadata": {
    "execution": {
     "iopub.execute_input": "2023-11-23T02:03:38.438585Z",
     "iopub.status.busy": "2023-11-23T02:03:38.436323Z",
     "iopub.status.idle": "2023-11-23T02:04:02.098395Z",
     "shell.execute_reply": "2023-11-23T02:04:02.097183Z"
    }
   },
   "outputs": [
    {
     "data": {
      "text/plain": [
       "356"
      ]
     },
     "execution_count": 18,
     "metadata": {},
     "output_type": "execute_result"
    }
   ],
   "source": [
    "#q5\n",
    "# loop over the results, making a call to the server with for each row to insert the measurements to the database\n",
    "import grpc\n",
    "import station_pb2_grpc, station_pb2\n",
    "\n",
    "channel = grpc.insecure_channel('localhost:5440')\n",
    "stub = station_pb2_grpc.StationStub(channel)\n",
    "\n",
    "for row in records_df.collect():\n",
    "    resp = stub.RecordTemps(station_pb2.RecordTempsRequest(station=row.station, date=row.date, \n",
    "                                                            tmin=int(row.TMIN), tmax=int(row.TMAX)))\n",
    "\n",
    "resp = stub.StationMax(station_pb2.StationMaxRequest(station='USW00014837'))\n",
    "# print(resp)\n",
    "\n",
    "resp.tmax"
   ]
  },
  {
   "cell_type": "code",
   "execution_count": 19,
   "id": "c8482899-6ac4-49ba-90f2-b0fd7ead8447",
   "metadata": {
    "execution": {
     "iopub.execute_input": "2023-11-23T02:04:02.233260Z",
     "iopub.status.busy": "2023-11-23T02:04:02.104255Z",
     "iopub.status.idle": "2023-11-23T02:04:11.996661Z",
     "shell.execute_reply": "2023-11-23T02:04:11.995264Z"
    }
   },
   "outputs": [],
   "source": [
    "df = spark.read.format(\"org.apache.spark.sql.cassandra\")\\\n",
    ".option(\"spark.cassandra.connection.host\", \"p6-db-1,p6-db-2,p6-db-3\")\\\n",
    ".option(\"keyspace\", \"weather\")\\\n",
    ".option(\"table\", \"stations\")\\\n",
    ".load()"
   ]
  },
  {
   "cell_type": "code",
   "execution_count": 20,
   "id": "67fefa93-1a36-4d25-a099-e35ecbd3cacf",
   "metadata": {
    "execution": {
     "iopub.execute_input": "2023-11-23T02:04:12.002856Z",
     "iopub.status.busy": "2023-11-23T02:04:12.002466Z",
     "iopub.status.idle": "2023-11-23T02:04:12.009945Z",
     "shell.execute_reply": "2023-11-23T02:04:12.008746Z"
    }
   },
   "outputs": [],
   "source": [
    "spark.conf.set(\"spark.sql.catalog.mycat\", \"com.datastax.spark.connector.datasource.CassandraCatalog\")\n",
    "spark.conf.set(\"spark.sql.catalog.mycat.spark.cassandra.connection.host\", \"p6-db-1,p6-db-2,p6-db-3\")"
   ]
  },
  {
   "cell_type": "code",
   "execution_count": 21,
   "id": "58f3d70c-bc55-49e6-8135-c3d89b78ce6a",
   "metadata": {
    "execution": {
     "iopub.execute_input": "2023-11-23T02:04:12.014936Z",
     "iopub.status.busy": "2023-11-23T02:04:12.014161Z",
     "iopub.status.idle": "2023-11-23T02:04:12.092055Z",
     "shell.execute_reply": "2023-11-23T02:04:12.091134Z"
    }
   },
   "outputs": [],
   "source": [
    "df.createOrReplaceTempView(\"stations\")"
   ]
  },
  {
   "cell_type": "code",
   "execution_count": 22,
   "id": "15296785-ffaf-49a1-9556-9d1bbbb90000",
   "metadata": {
    "execution": {
     "iopub.execute_input": "2023-11-23T02:04:12.097038Z",
     "iopub.status.busy": "2023-11-23T02:04:12.096712Z",
     "iopub.status.idle": "2023-11-23T02:04:14.002809Z",
     "shell.execute_reply": "2023-11-23T02:04:14.001480Z"
    }
   },
   "outputs": [
    {
     "data": {
      "text/plain": [
       "[Table(name='stations', catalog=None, namespace=[], description=None, tableType='TEMPORARY', isTemporary=True)]"
      ]
     },
     "execution_count": 22,
     "metadata": {},
     "output_type": "execute_result"
    }
   ],
   "source": [
    "#q6 : List tables and views in Spark Catalog\n",
    "spark.catalog.listTables()"
   ]
  },
  {
   "cell_type": "code",
   "execution_count": 23,
   "id": "3086e55e-f406-4483-896b-9f186bd16072",
   "metadata": {
    "execution": {
     "iopub.execute_input": "2023-11-23T02:04:14.007422Z",
     "iopub.status.busy": "2023-11-23T02:04:14.007024Z",
     "iopub.status.idle": "2023-11-23T02:04:23.253587Z",
     "shell.execute_reply": "2023-11-23T02:04:23.252250Z"
    }
   },
   "outputs": [
    {
     "name": "stderr",
     "output_type": "stream",
     "text": [
      "\r",
      "[Stage 20:>                                                         (0 + 2) / 6]\r"
     ]
    },
    {
     "name": "stderr",
     "output_type": "stream",
     "text": [
      "\r",
      "[Stage 20:=========>                                                (1 + 2) / 6]\r"
     ]
    },
    {
     "name": "stderr",
     "output_type": "stream",
     "text": [
      "\r",
      "[Stage 20:===================>                                      (2 + 2) / 6]\r"
     ]
    },
    {
     "name": "stderr",
     "output_type": "stream",
     "text": [
      "\r",
      "[Stage 20:=============================>                            (3 + 2) / 6]\r"
     ]
    },
    {
     "name": "stderr",
     "output_type": "stream",
     "text": [
      "\r",
      "[Stage 20:=============================>                            (3 + 3) / 6]\r"
     ]
    },
    {
     "name": "stderr",
     "output_type": "stream",
     "text": [
      "\r",
      "[Stage 20:======================================>                   (4 + 2) / 6]\r"
     ]
    },
    {
     "name": "stderr",
     "output_type": "stream",
     "text": [
      "\r",
      "[Stage 20:================================================>         (5 + 1) / 6]\r"
     ]
    },
    {
     "name": "stderr",
     "output_type": "stream",
     "text": [
      "\r",
      "                                                                                \r"
     ]
    },
    {
     "data": {
      "text/plain": [
       "{'USW00014839': 89.6986301369863,\n",
       " 'USW00014898': 102.93698630136986,\n",
       " 'USR0000WDDG': 102.06849315068493,\n",
       " 'USW00014837': 105.62739726027397}"
      ]
     },
     "execution_count": 23,
     "metadata": {},
     "output_type": "execute_result"
    }
   ],
   "source": [
    "#q7 : what is the average difference between tmax and tmin, for each of the four stations that have temperature records?\n",
    "\n",
    "df_res = df.filter(\"record is not null\")\n",
    "df_res = df_res.withColumn('difference', ( df['record.tmax'] - df['record.tmin'] ))\n",
    "df_res = df_res.groupBy('id').agg({'difference': 'mean'})\n",
    "df_res.collect()\n",
    "d = {}\n",
    "for row in df_res.collect():\n",
    "    rd = row.asDict()\n",
    "    d[rd[\"id\"]] = rd[\"avg(difference)\"]\n",
    "\n",
    "d\n",
    "# df_\n",
    "    # map(lambda row: row.asDict(), df.collect()))"
   ]
  },
  {
   "cell_type": "code",
   "execution_count": 24,
   "id": "eeb4a3d1-d0e0-4454-9ff0-a327313da862",
   "metadata": {
    "execution": {
     "iopub.execute_input": "2023-11-23T02:04:49.289625Z",
     "iopub.status.busy": "2023-11-23T02:04:49.287853Z",
     "iopub.status.idle": "2023-11-23T02:04:51.403923Z",
     "shell.execute_reply": "2023-11-23T02:04:51.402673Z"
    }
   },
   "outputs": [
    {
     "name": "stdout",
     "output_type": "stream",
     "text": [
      "Datacenter: datacenter1\r\n",
      "=======================\r\n",
      "Status=Up/Down\r\n",
      "|/ State=Normal/Leaving/Joining/Moving\r\n",
      "--  Address     Load        Tokens  Owns (effective)  Host ID                               Rack \r\n",
      "UN  172.25.0.2  118.22 KiB  16      100.0%            5ddcc947-9ed4-4b55-87c1-8164a211ea4b  rack1\r\n",
      "UN  172.25.0.4  92.8 KiB    16      100.0%            d553f1d9-458c-41fc-b429-3728e6e218f9  rack1\r\n",
      "DN  172.25.0.3  92.8 KiB    16      100.0%            f640d31c-a0bf-4f22-96d0-1946135d9d71  rack1\r\n",
      "\r\n"
     ]
    }
   ],
   "source": [
    "#q8\n",
    "\n",
    "!nodetool status"
   ]
  },
  {
   "cell_type": "code",
   "execution_count": 25,
   "id": "bf6ed3af-cd2c-4049-81a4-13a66abd40e8",
   "metadata": {
    "execution": {
     "iopub.execute_input": "2023-11-23T02:04:51.410290Z",
     "iopub.status.busy": "2023-11-23T02:04:51.408951Z",
     "iopub.status.idle": "2023-11-23T02:04:51.441904Z",
     "shell.execute_reply": "2023-11-23T02:04:51.440053Z"
    }
   },
   "outputs": [
    {
     "data": {
      "text/plain": [
       "'need 3 replicas, but only have 2'"
      ]
     },
     "execution_count": 25,
     "metadata": {},
     "output_type": "execute_result"
    }
   ],
   "source": [
    "#q9\n",
    "\n",
    "resp = stub.StationMax(station_pb2.StationMaxRequest(station='USW00014837'))\n",
    "\n",
    "resp.error"
   ]
  },
  {
   "cell_type": "code",
   "execution_count": 26,
   "id": "df98ecb8-337e-4627-bc35-0e39cf112bd1",
   "metadata": {
    "execution": {
     "iopub.execute_input": "2023-11-23T02:04:51.447302Z",
     "iopub.status.busy": "2023-11-23T02:04:51.446527Z",
     "iopub.status.idle": "2023-11-23T02:04:51.477911Z",
     "shell.execute_reply": "2023-11-23T02:04:51.476553Z"
    }
   },
   "outputs": [
    {
     "data": {
      "text/plain": [
       "''"
      ]
     },
     "execution_count": 26,
     "metadata": {},
     "output_type": "execute_result"
    }
   ],
   "source": [
    "#q10\n",
    "\n",
    "resp = stub.RecordTemps(station_pb2.RecordTempsRequest(station='USW00019837', date='21011120', \n",
    "                                                            tmin=0, tmax=0))\n",
    "\n",
    "resp.error"
   ]
  }
 ],
 "metadata": {
  "kernelspec": {
   "display_name": "Python 3 (ipykernel)",
   "language": "python",
   "name": "python3"
  },
  "language_info": {
   "codemirror_mode": {
    "name": "ipython",
    "version": 3
   },
   "file_extension": ".py",
   "mimetype": "text/x-python",
   "name": "python",
   "nbconvert_exporter": "python",
   "pygments_lexer": "ipython3",
   "version": "3.10.12"
  }
 },
 "nbformat": 4,
 "nbformat_minor": 5
}
