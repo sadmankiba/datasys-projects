{
 "cells": [
  {
   "cell_type": "code",
   "execution_count": 1,
   "id": "66af4e77-0e5f-457d-a762-a5eb2a9657d7",
   "metadata": {},
   "outputs": [
    {
     "name": "stderr",
     "output_type": "stream",
     "text": [
      "Setting default log level to \"WARN\".\n",
      "To adjust logging level use sc.setLogLevel(newLevel). For SparkR, use setLogLevel(newLevel).\n",
      "23/11/03 22:55:49 WARN NativeCodeLoader: Unable to load native-hadoop library for your platform... using builtin-java classes where applicable\n"
     ]
    }
   ],
   "source": [
    "from pyspark.sql import SparkSession\n",
    "spark = (SparkSession.builder.appName(\"cs544\")\n",
    "         .master(\"spark://boss:7077\")\n",
    "         .config(\"spark.executor.memory\", \"512M\")\n",
    "         .config(\"spark.sql.warehouse.dir\", \"hdfs://nn:9000/user/hive/warehouse\")\n",
    "         .enableHiveSupport()\n",
    "         .getOrCreate())"
   ]
  },
  {
   "cell_type": "code",
   "execution_count": null,
   "id": "5d7fa612-13ff-4339-9eb4-f9abff95fb51",
   "metadata": {},
   "outputs": [],
   "source": [
    "rm -r nb/data\n",
    "\n",
    "!wget https://pages.cs.wisc.edu/~harter/cs544/data/hdma-wi-2021.zip\n",
    "!wget https://pages.cs.wisc.edu/~harter/cs544/data/arid2017_to_lei_xref_csv.zip\n",
    "!wget https://pages.cs.wisc.edu/~harter/cs544/data/code_sheets.zip\n",
    "!mkdir -p nb/data\n",
    "!unzip -o hdma-wi-2021.zip -d nb/data\n",
    "!unzip -o arid2017_to_lei_xref_csv.zip -d nb/data\n",
    "!unzip -o code_sheets.zip -d nb/data"
   ]
  },
  {
   "cell_type": "code",
   "execution_count": 5,
   "id": "3ec9319e-503a-4211-b19a-8a152b436059",
   "metadata": {},
   "outputs": [],
   "source": [
    "!hdfs dfs -D dfs.replication=1 -cp -f data/*.csv hdfs://nn:9000/"
   ]
  },
  {
   "cell_type": "code",
   "execution_count": 6,
   "id": "1770834b-f880-4d0b-9dd1-8679e3d5273c",
   "metadata": {},
   "outputs": [
    {
     "name": "stderr",
     "output_type": "stream",
     "text": [
      "                                                                                \r"
     ]
    }
   ],
   "source": [
    "banks_df = spark.read.csv(\"hdfs://nn:9000/arid2017_to_lei_xref_csv.csv\")"
   ]
  },
  {
   "cell_type": "code",
   "execution_count": 9,
   "id": "d8c60b43-f5a4-4751-986c-92a5a7af9991",
   "metadata": {},
   "outputs": [
    {
     "data": {
      "text/plain": [
       "5400"
      ]
     },
     "execution_count": 9,
     "metadata": {},
     "output_type": "execute_result"
    }
   ],
   "source": [
    "banks_df.count()"
   ]
  },
  {
   "cell_type": "code",
   "execution_count": 8,
   "id": "48c19f98-3b9e-4155-9d1f-8ab82b392be0",
   "metadata": {},
   "outputs": [
    {
     "name": "stderr",
     "output_type": "stream",
     "text": [
      "                                                                                \r"
     ]
    },
    {
     "data": {
      "text/plain": [
       "[Row(_c0='respondent_name', _c1='arid_2017', _c2='lei_2018', _c3='lei_2019', _c4='lei_2020'),\n",
       " Row(_c0='First National Bank', _c1='110004', _c2='5493003EW6T31TGECO83', _c3='5493003EW6T31TGECO83', _c4='5493003EW6T31TGECO83'),\n",
       " Row(_c0='First Mid Bank & Trust, National Association', _c1='110045', _c2='549300XOTES5TCS8T794', _c3='549300XOTES5TCS8T794', _c4='549300XOTES5TCS8T794'),\n",
       " Row(_c0='First Hope Bank, A National Banking Association', _c1='110118', _c2='5493003XLOX5FDT9R120', _c3='5493003XLOX5FDT9R120', _c4='5493003XLOX5FDT9R120'),\n",
       " Row(_c0='First National Bank of Waterloo', _c1='110180', _c2='5493002GOGIUXB84JB89', _c3='5493002GOGIUXB84JB89', _c4='5493002GOGIUXB84JB89')]"
      ]
     },
     "execution_count": 8,
     "metadata": {},
     "output_type": "execute_result"
    }
   ],
   "source": [
    "banks_df.rdd.take(5)"
   ]
  },
  {
   "cell_type": "code",
   "execution_count": 10,
   "id": "15cee7f4-b4bc-47c5-a5f6-a794b2a5d76c",
   "metadata": {},
   "outputs": [
    {
     "data": {
      "text/html": [
       "<div>\n",
       "<style scoped>\n",
       "    .dataframe tbody tr th:only-of-type {\n",
       "        vertical-align: middle;\n",
       "    }\n",
       "\n",
       "    .dataframe tbody tr th {\n",
       "        vertical-align: top;\n",
       "    }\n",
       "\n",
       "    .dataframe thead th {\n",
       "        text-align: right;\n",
       "    }\n",
       "</style>\n",
       "<table border=\"1\" class=\"dataframe\">\n",
       "  <thead>\n",
       "    <tr style=\"text-align: right;\">\n",
       "      <th></th>\n",
       "      <th>_c0</th>\n",
       "      <th>_c1</th>\n",
       "      <th>_c2</th>\n",
       "      <th>_c3</th>\n",
       "      <th>_c4</th>\n",
       "    </tr>\n",
       "  </thead>\n",
       "  <tbody>\n",
       "    <tr>\n",
       "      <th>0</th>\n",
       "      <td>respondent_name</td>\n",
       "      <td>arid_2017</td>\n",
       "      <td>lei_2018</td>\n",
       "      <td>lei_2019</td>\n",
       "      <td>lei_2020</td>\n",
       "    </tr>\n",
       "    <tr>\n",
       "      <th>1</th>\n",
       "      <td>First National Bank</td>\n",
       "      <td>110004</td>\n",
       "      <td>5493003EW6T31TGECO83</td>\n",
       "      <td>5493003EW6T31TGECO83</td>\n",
       "      <td>5493003EW6T31TGECO83</td>\n",
       "    </tr>\n",
       "    <tr>\n",
       "      <th>2</th>\n",
       "      <td>First Mid Bank &amp; Trust, National Association</td>\n",
       "      <td>110045</td>\n",
       "      <td>549300XOTES5TCS8T794</td>\n",
       "      <td>549300XOTES5TCS8T794</td>\n",
       "      <td>549300XOTES5TCS8T794</td>\n",
       "    </tr>\n",
       "    <tr>\n",
       "      <th>3</th>\n",
       "      <td>First Hope Bank, A National Banking Association</td>\n",
       "      <td>110118</td>\n",
       "      <td>5493003XLOX5FDT9R120</td>\n",
       "      <td>5493003XLOX5FDT9R120</td>\n",
       "      <td>5493003XLOX5FDT9R120</td>\n",
       "    </tr>\n",
       "    <tr>\n",
       "      <th>4</th>\n",
       "      <td>First National Bank of Waterloo</td>\n",
       "      <td>110180</td>\n",
       "      <td>5493002GOGIUXB84JB89</td>\n",
       "      <td>5493002GOGIUXB84JB89</td>\n",
       "      <td>5493002GOGIUXB84JB89</td>\n",
       "    </tr>\n",
       "  </tbody>\n",
       "</table>\n",
       "</div>"
      ],
      "text/plain": [
       "                                               _c0        _c1  \\\n",
       "0                                  respondent_name  arid_2017   \n",
       "1                              First National Bank     110004   \n",
       "2     First Mid Bank & Trust, National Association     110045   \n",
       "3  First Hope Bank, A National Banking Association     110118   \n",
       "4                  First National Bank of Waterloo     110180   \n",
       "\n",
       "                    _c2                   _c3                   _c4  \n",
       "0              lei_2018              lei_2019              lei_2020  \n",
       "1  5493003EW6T31TGECO83  5493003EW6T31TGECO83  5493003EW6T31TGECO83  \n",
       "2  549300XOTES5TCS8T794  549300XOTES5TCS8T794  549300XOTES5TCS8T794  \n",
       "3  5493003XLOX5FDT9R120  5493003XLOX5FDT9R120  5493003XLOX5FDT9R120  \n",
       "4  5493002GOGIUXB84JB89  5493002GOGIUXB84JB89  5493002GOGIUXB84JB89  "
      ]
     },
     "execution_count": 10,
     "metadata": {},
     "output_type": "execute_result"
    }
   ],
   "source": [
    "banks_df.limit(5).toPandas()"
   ]
  },
  {
   "cell_type": "code",
   "execution_count": 12,
   "id": "76c4a6e5-5eb2-48b8-814e-a7fb0be43dfa",
   "metadata": {},
   "outputs": [],
   "source": [
    "banks_df = (spark.read.format(\"csv\").option(\"header\", True).load(\"hdfs://nn:9000/arid2017_to_lei_xref_csv.csv\"))"
   ]
  },
  {
   "cell_type": "code",
   "execution_count": 13,
   "id": "0c3eac84-de1b-454b-904f-e149fa21b3bb",
   "metadata": {},
   "outputs": [
    {
     "data": {
      "text/html": [
       "<div>\n",
       "<style scoped>\n",
       "    .dataframe tbody tr th:only-of-type {\n",
       "        vertical-align: middle;\n",
       "    }\n",
       "\n",
       "    .dataframe tbody tr th {\n",
       "        vertical-align: top;\n",
       "    }\n",
       "\n",
       "    .dataframe thead th {\n",
       "        text-align: right;\n",
       "    }\n",
       "</style>\n",
       "<table border=\"1\" class=\"dataframe\">\n",
       "  <thead>\n",
       "    <tr style=\"text-align: right;\">\n",
       "      <th></th>\n",
       "      <th>respondent_name</th>\n",
       "      <th>arid_2017</th>\n",
       "      <th>lei_2018</th>\n",
       "      <th>lei_2019</th>\n",
       "      <th>lei_2020</th>\n",
       "    </tr>\n",
       "  </thead>\n",
       "  <tbody>\n",
       "    <tr>\n",
       "      <th>0</th>\n",
       "      <td>First National Bank</td>\n",
       "      <td>110004</td>\n",
       "      <td>5493003EW6T31TGECO83</td>\n",
       "      <td>5493003EW6T31TGECO83</td>\n",
       "      <td>5493003EW6T31TGECO83</td>\n",
       "    </tr>\n",
       "    <tr>\n",
       "      <th>1</th>\n",
       "      <td>First Mid Bank &amp; Trust, National Association</td>\n",
       "      <td>110045</td>\n",
       "      <td>549300XOTES5TCS8T794</td>\n",
       "      <td>549300XOTES5TCS8T794</td>\n",
       "      <td>549300XOTES5TCS8T794</td>\n",
       "    </tr>\n",
       "    <tr>\n",
       "      <th>2</th>\n",
       "      <td>First Hope Bank, A National Banking Association</td>\n",
       "      <td>110118</td>\n",
       "      <td>5493003XLOX5FDT9R120</td>\n",
       "      <td>5493003XLOX5FDT9R120</td>\n",
       "      <td>5493003XLOX5FDT9R120</td>\n",
       "    </tr>\n",
       "    <tr>\n",
       "      <th>3</th>\n",
       "      <td>First National Bank of Waterloo</td>\n",
       "      <td>110180</td>\n",
       "      <td>5493002GOGIUXB84JB89</td>\n",
       "      <td>5493002GOGIUXB84JB89</td>\n",
       "      <td>5493002GOGIUXB84JB89</td>\n",
       "    </tr>\n",
       "    <tr>\n",
       "      <th>4</th>\n",
       "      <td>Cumberland Valley National Bank &amp; Trust Company</td>\n",
       "      <td>110254</td>\n",
       "      <td>549300OULGV8ZW0JV320</td>\n",
       "      <td>549300OULGV8ZW0JV320</td>\n",
       "      <td>549300OULGV8ZW0JV320</td>\n",
       "    </tr>\n",
       "  </tbody>\n",
       "</table>\n",
       "</div>"
      ],
      "text/plain": [
       "                                   respondent_name arid_2017  \\\n",
       "0                              First National Bank    110004   \n",
       "1     First Mid Bank & Trust, National Association    110045   \n",
       "2  First Hope Bank, A National Banking Association    110118   \n",
       "3                  First National Bank of Waterloo    110180   \n",
       "4  Cumberland Valley National Bank & Trust Company    110254   \n",
       "\n",
       "               lei_2018              lei_2019              lei_2020  \n",
       "0  5493003EW6T31TGECO83  5493003EW6T31TGECO83  5493003EW6T31TGECO83  \n",
       "1  549300XOTES5TCS8T794  549300XOTES5TCS8T794  549300XOTES5TCS8T794  \n",
       "2  5493003XLOX5FDT9R120  5493003XLOX5FDT9R120  5493003XLOX5FDT9R120  \n",
       "3  5493002GOGIUXB84JB89  5493002GOGIUXB84JB89  5493002GOGIUXB84JB89  \n",
       "4  549300OULGV8ZW0JV320  549300OULGV8ZW0JV320  549300OULGV8ZW0JV320  "
      ]
     },
     "execution_count": 13,
     "metadata": {},
     "output_type": "execute_result"
    }
   ],
   "source": [
    "banks_df.limit(5).toPandas()"
   ]
  },
  {
   "cell_type": "code",
   "execution_count": 14,
   "id": "d69840bf-987c-4dff-9a26-ac717a806022",
   "metadata": {},
   "outputs": [
    {
     "data": {
      "text/plain": [
       "[('respondent_name', 'string'),\n",
       " ('arid_2017', 'string'),\n",
       " ('lei_2018', 'string'),\n",
       " ('lei_2019', 'string'),\n",
       " ('lei_2020', 'string')]"
      ]
     },
     "execution_count": 14,
     "metadata": {},
     "output_type": "execute_result"
    }
   ],
   "source": [
    "banks_df.dtypes"
   ]
  },
  {
   "cell_type": "code",
   "execution_count": 16,
   "id": "e2c94309-cdd0-4c9d-9f69-4e6ed8af1279",
   "metadata": {},
   "outputs": [
    {
     "data": {
      "text/html": [
       "<div>\n",
       "<style scoped>\n",
       "    .dataframe tbody tr th:only-of-type {\n",
       "        vertical-align: middle;\n",
       "    }\n",
       "\n",
       "    .dataframe tbody tr th {\n",
       "        vertical-align: top;\n",
       "    }\n",
       "\n",
       "    .dataframe thead th {\n",
       "        text-align: right;\n",
       "    }\n",
       "</style>\n",
       "<table border=\"1\" class=\"dataframe\">\n",
       "  <thead>\n",
       "    <tr style=\"text-align: right;\">\n",
       "      <th></th>\n",
       "      <th>arid_2017</th>\n",
       "    </tr>\n",
       "  </thead>\n",
       "  <tbody>\n",
       "    <tr>\n",
       "      <th>0</th>\n",
       "      <td>110004</td>\n",
       "    </tr>\n",
       "    <tr>\n",
       "      <th>1</th>\n",
       "      <td>110045</td>\n",
       "    </tr>\n",
       "    <tr>\n",
       "      <th>2</th>\n",
       "      <td>110118</td>\n",
       "    </tr>\n",
       "  </tbody>\n",
       "</table>\n",
       "</div>"
      ],
      "text/plain": [
       "  arid_2017\n",
       "0    110004\n",
       "1    110045\n",
       "2    110118"
      ]
     },
     "execution_count": 16,
     "metadata": {},
     "output_type": "execute_result"
    }
   ],
   "source": [
    "from pyspark.sql.functions import col, expr\n",
    "\n",
    "banks_df.select(expr(\"`arid_2017`\")).limit(3).toPandas()"
   ]
  },
  {
   "cell_type": "code",
   "execution_count": 18,
   "id": "021b21bc-3744-441a-89cb-a538e1f7a11e",
   "metadata": {},
   "outputs": [],
   "source": [
    "banks_df.createTempView(\"banks\")"
   ]
  },
  {
   "cell_type": "code",
   "execution_count": 19,
   "id": "c8f89729-04da-4796-ade1-45bd96c214d2",
   "metadata": {},
   "outputs": [
    {
     "data": {
      "text/html": [
       "<div>\n",
       "<style scoped>\n",
       "    .dataframe tbody tr th:only-of-type {\n",
       "        vertical-align: middle;\n",
       "    }\n",
       "\n",
       "    .dataframe tbody tr th {\n",
       "        vertical-align: top;\n",
       "    }\n",
       "\n",
       "    .dataframe thead th {\n",
       "        text-align: right;\n",
       "    }\n",
       "</style>\n",
       "<table border=\"1\" class=\"dataframe\">\n",
       "  <thead>\n",
       "    <tr style=\"text-align: right;\">\n",
       "      <th></th>\n",
       "      <th>respondent_name</th>\n",
       "      <th>arid_2017</th>\n",
       "      <th>lei_2018</th>\n",
       "      <th>lei_2019</th>\n",
       "      <th>lei_2020</th>\n",
       "    </tr>\n",
       "  </thead>\n",
       "  <tbody>\n",
       "    <tr>\n",
       "      <th>0</th>\n",
       "      <td>First National Bank</td>\n",
       "      <td>110004</td>\n",
       "      <td>5493003EW6T31TGECO83</td>\n",
       "      <td>5493003EW6T31TGECO83</td>\n",
       "      <td>5493003EW6T31TGECO83</td>\n",
       "    </tr>\n",
       "    <tr>\n",
       "      <th>1</th>\n",
       "      <td>First Mid Bank &amp; Trust, National Association</td>\n",
       "      <td>110045</td>\n",
       "      <td>549300XOTES5TCS8T794</td>\n",
       "      <td>549300XOTES5TCS8T794</td>\n",
       "      <td>549300XOTES5TCS8T794</td>\n",
       "    </tr>\n",
       "    <tr>\n",
       "      <th>2</th>\n",
       "      <td>First Hope Bank, A National Banking Association</td>\n",
       "      <td>110118</td>\n",
       "      <td>5493003XLOX5FDT9R120</td>\n",
       "      <td>5493003XLOX5FDT9R120</td>\n",
       "      <td>5493003XLOX5FDT9R120</td>\n",
       "    </tr>\n",
       "  </tbody>\n",
       "</table>\n",
       "</div>"
      ],
      "text/plain": [
       "                                   respondent_name arid_2017  \\\n",
       "0                              First National Bank    110004   \n",
       "1     First Mid Bank & Trust, National Association    110045   \n",
       "2  First Hope Bank, A National Banking Association    110118   \n",
       "\n",
       "               lei_2018              lei_2019              lei_2020  \n",
       "0  5493003EW6T31TGECO83  5493003EW6T31TGECO83  5493003EW6T31TGECO83  \n",
       "1  549300XOTES5TCS8T794  549300XOTES5TCS8T794  549300XOTES5TCS8T794  \n",
       "2  5493003XLOX5FDT9R120  5493003XLOX5FDT9R120  5493003XLOX5FDT9R120  "
      ]
     },
     "execution_count": 19,
     "metadata": {},
     "output_type": "execute_result"
    }
   ],
   "source": [
    "spark.sql(\"SELECT * FROM banks LIMIT 3\").toPandas()"
   ]
  },
  {
   "cell_type": "code",
   "execution_count": 20,
   "id": "4d8200b1-ce23-49cc-a88b-dc5c7dbd5734",
   "metadata": {},
   "outputs": [
    {
     "name": "stderr",
     "output_type": "stream",
     "text": [
      "23/11/03 23:21:27 WARN ObjectStore: Failed to get database global_temp, returning NoSuchObjectException\n"
     ]
    },
    {
     "name": "stdout",
     "output_type": "stream",
     "text": [
      "+---------+---------+-----------+\n",
      "|namespace|tableName|isTemporary|\n",
      "+---------+---------+-----------+\n",
      "|         |    banks|       true|\n",
      "+---------+---------+-----------+\n",
      "\n"
     ]
    }
   ],
   "source": [
    "spark.sql(\"SHOW TABLES\").show()"
   ]
  },
  {
   "cell_type": "code",
   "execution_count": 21,
   "id": "d1eba967-5605-42c3-b983-855dfb546e59",
   "metadata": {},
   "outputs": [
    {
     "name": "stderr",
     "output_type": "stream",
     "text": [
      "                                                                                \r"
     ]
    },
    {
     "data": {
      "text/html": [
       "<div>\n",
       "<style scoped>\n",
       "    .dataframe tbody tr th:only-of-type {\n",
       "        vertical-align: middle;\n",
       "    }\n",
       "\n",
       "    .dataframe tbody tr th {\n",
       "        vertical-align: top;\n",
       "    }\n",
       "\n",
       "    .dataframe thead th {\n",
       "        text-align: right;\n",
       "    }\n",
       "</style>\n",
       "<table border=\"1\" class=\"dataframe\">\n",
       "  <thead>\n",
       "    <tr style=\"text-align: right;\">\n",
       "      <th></th>\n",
       "      <th>respondent_name</th>\n",
       "      <th>arid_2017</th>\n",
       "      <th>lei_2018</th>\n",
       "      <th>lei_2019</th>\n",
       "      <th>lei_2020</th>\n",
       "    </tr>\n",
       "  </thead>\n",
       "  <tbody>\n",
       "    <tr>\n",
       "      <th>0</th>\n",
       "      <td>First National Bank</td>\n",
       "      <td>110004</td>\n",
       "      <td>5493003EW6T31TGECO83</td>\n",
       "      <td>5493003EW6T31TGECO83</td>\n",
       "      <td>5493003EW6T31TGECO83</td>\n",
       "    </tr>\n",
       "    <tr>\n",
       "      <th>1</th>\n",
       "      <td>First Mid Bank &amp; Trust, National Association</td>\n",
       "      <td>110045</td>\n",
       "      <td>549300XOTES5TCS8T794</td>\n",
       "      <td>549300XOTES5TCS8T794</td>\n",
       "      <td>549300XOTES5TCS8T794</td>\n",
       "    </tr>\n",
       "    <tr>\n",
       "      <th>2</th>\n",
       "      <td>First Hope Bank, A National Banking Association</td>\n",
       "      <td>110118</td>\n",
       "      <td>5493003XLOX5FDT9R120</td>\n",
       "      <td>5493003XLOX5FDT9R120</td>\n",
       "      <td>5493003XLOX5FDT9R120</td>\n",
       "    </tr>\n",
       "    <tr>\n",
       "      <th>3</th>\n",
       "      <td>First National Bank of Waterloo</td>\n",
       "      <td>110180</td>\n",
       "      <td>5493002GOGIUXB84JB89</td>\n",
       "      <td>5493002GOGIUXB84JB89</td>\n",
       "      <td>5493002GOGIUXB84JB89</td>\n",
       "    </tr>\n",
       "    <tr>\n",
       "      <th>4</th>\n",
       "      <td>First National Bank of North Arkansas</td>\n",
       "      <td>110406</td>\n",
       "      <td>5493000LJB0L73TDJT41</td>\n",
       "      <td>5493000LJB0L73TDJT41</td>\n",
       "      <td>5493000LJB0L73TDJT41</td>\n",
       "    </tr>\n",
       "    <tr>\n",
       "      <th>5</th>\n",
       "      <td>First National Bank, Ames, Iowa</td>\n",
       "      <td>110408</td>\n",
       "      <td>549300OIJZOV6CPR1Y57</td>\n",
       "      <td>549300OIJZOV6CPR1Y57</td>\n",
       "      <td>549300OIJZOV6CPR1Y57</td>\n",
       "    </tr>\n",
       "    <tr>\n",
       "      <th>6</th>\n",
       "      <td>First National Bank</td>\n",
       "      <td>110465</td>\n",
       "      <td>54930035C68SRQ1RS395</td>\n",
       "      <td>54930035C68SRQ1RS395</td>\n",
       "      <td>54930035C68SRQ1RS395</td>\n",
       "    </tr>\n",
       "    <tr>\n",
       "      <th>7</th>\n",
       "      <td>First National Bank of South Carolina</td>\n",
       "      <td>110680</td>\n",
       "      <td>549300X0240UXBEJNV56</td>\n",
       "      <td>549300X0240UXBEJNV56</td>\n",
       "      <td>None</td>\n",
       "    </tr>\n",
       "    <tr>\n",
       "      <th>8</th>\n",
       "      <td>First National Bank Of Oklahoma</td>\n",
       "      <td>111397</td>\n",
       "      <td>549300OBYIDGN0LRQS38</td>\n",
       "      <td>549300OBYIDGN0LRQS38</td>\n",
       "      <td>549300OBYIDGN0LRQS38</td>\n",
       "    </tr>\n",
       "    <tr>\n",
       "      <th>9</th>\n",
       "      <td>First National Community Bank</td>\n",
       "      <td>111412</td>\n",
       "      <td>549300Q26XXW77S35W27</td>\n",
       "      <td>549300Q26XXW77S35W27</td>\n",
       "      <td>549300Q26XXW77S35W27</td>\n",
       "    </tr>\n",
       "  </tbody>\n",
       "</table>\n",
       "</div>"
      ],
      "text/plain": [
       "                                   respondent_name arid_2017  \\\n",
       "0                              First National Bank    110004   \n",
       "1     First Mid Bank & Trust, National Association    110045   \n",
       "2  First Hope Bank, A National Banking Association    110118   \n",
       "3                  First National Bank of Waterloo    110180   \n",
       "4            First National Bank of North Arkansas    110406   \n",
       "5                  First National Bank, Ames, Iowa    110408   \n",
       "6                              First National Bank    110465   \n",
       "7            First National Bank of South Carolina    110680   \n",
       "8                  First National Bank Of Oklahoma    111397   \n",
       "9                    First National Community Bank    111412   \n",
       "\n",
       "               lei_2018              lei_2019              lei_2020  \n",
       "0  5493003EW6T31TGECO83  5493003EW6T31TGECO83  5493003EW6T31TGECO83  \n",
       "1  549300XOTES5TCS8T794  549300XOTES5TCS8T794  549300XOTES5TCS8T794  \n",
       "2  5493003XLOX5FDT9R120  5493003XLOX5FDT9R120  5493003XLOX5FDT9R120  \n",
       "3  5493002GOGIUXB84JB89  5493002GOGIUXB84JB89  5493002GOGIUXB84JB89  \n",
       "4  5493000LJB0L73TDJT41  5493000LJB0L73TDJT41  5493000LJB0L73TDJT41  \n",
       "5  549300OIJZOV6CPR1Y57  549300OIJZOV6CPR1Y57  549300OIJZOV6CPR1Y57  \n",
       "6  54930035C68SRQ1RS395  54930035C68SRQ1RS395  54930035C68SRQ1RS395  \n",
       "7  549300X0240UXBEJNV56  549300X0240UXBEJNV56                  None  \n",
       "8  549300OBYIDGN0LRQS38  549300OBYIDGN0LRQS38  549300OBYIDGN0LRQS38  \n",
       "9  549300Q26XXW77S35W27  549300Q26XXW77S35W27  549300Q26XXW77S35W27  "
      ]
     },
     "execution_count": 21,
     "metadata": {},
     "output_type": "execute_result"
    }
   ],
   "source": [
    "spark.sql(\"\"\"\n",
    "SELECT *\n",
    "FROM banks\n",
    "WHERE respondent_name LIKE \"First%\"\n",
    "LIMIT 10\n",
    "\"\"\").toPandas()"
   ]
  },
  {
   "cell_type": "code",
   "execution_count": null,
   "id": "f705d15c-6035-4206-b18f-0e63474f0551",
   "metadata": {},
   "outputs": [],
   "source": []
  }
 ],
 "metadata": {
  "kernelspec": {
   "display_name": "Python 3 (ipykernel)",
   "language": "python",
   "name": "python3"
  },
  "language_info": {
   "codemirror_mode": {
    "name": "ipython",
    "version": 3
   },
   "file_extension": ".py",
   "mimetype": "text/x-python",
   "name": "python",
   "nbconvert_exporter": "python",
   "pygments_lexer": "ipython3",
   "version": "3.10.12"
  }
 },
 "nbformat": 4,
 "nbformat_minor": 5
}
