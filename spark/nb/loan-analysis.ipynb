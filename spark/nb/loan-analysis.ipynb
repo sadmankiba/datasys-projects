{
 "cells": [
  {
   "cell_type": "code",
   "execution_count": 1,
   "id": "fb12d025-e980-4c78-a585-0d4d35fb08ab",
   "metadata": {},
   "outputs": [],
   "source": [
    "# Names\n",
    "# Sadman Sakib\n",
    "# Anshuman Senapati"
   ]
  },
  {
   "cell_type": "code",
   "execution_count": 2,
   "id": "66af4e77-0e5f-457d-a762-a5eb2a9657d7",
   "metadata": {
    "scrolled": true
   },
   "outputs": [
    {
     "name": "stderr",
     "output_type": "stream",
     "text": [
      "Setting default log level to \"WARN\".\n",
      "To adjust logging level use sc.setLogLevel(newLevel). For SparkR, use setLogLevel(newLevel).\n",
      "23/11/11 05:22:58 WARN NativeCodeLoader: Unable to load native-hadoop library for your platform... using builtin-java classes where applicable\n"
     ]
    }
   ],
   "source": [
    "from pyspark.sql import SparkSession\n",
    "spark = (SparkSession.builder.appName(\"cs544\")\n",
    "         .master(\"spark://boss:7077\")\n",
    "         .config(\"spark.executor.memory\", \"512M\")\n",
    "         .config(\"spark.sql.warehouse.dir\", \"hdfs://nn:9000/user/hive/warehouse\")\n",
    "         .enableHiveSupport()\n",
    "         .getOrCreate())"
   ]
  },
  {
   "cell_type": "code",
   "execution_count": 3,
   "id": "5d7fa612-13ff-4339-9eb4-f9abff95fb51",
   "metadata": {},
   "outputs": [
    {
     "name": "stdout",
     "output_type": "stream",
     "text": [
      "--2023-11-11 05:23:09--  https://pages.cs.wisc.edu/~harter/cs544/data/hdma-wi-2021.zip\n",
      "Resolving pages.cs.wisc.edu (pages.cs.wisc.edu)... 128.105.7.9\n",
      "Connecting to pages.cs.wisc.edu (pages.cs.wisc.edu)|128.105.7.9|:443... connected.\n",
      "HTTP request sent, awaiting response... 200 OK\n",
      "Length: 21494278 (20M) [application/zip]\n",
      "Saving to: ‘hdma-wi-2021.zip.1’\n",
      "\n",
      "hdma-wi-2021.zip.1  100%[===================>]  20.50M  4.31MB/s    in 4.7s    \n",
      "\n",
      "2023-11-11 05:23:14 (4.36 MB/s) - ‘hdma-wi-2021.zip.1’ saved [21494278/21494278]\n",
      "\n",
      "--2023-11-11 05:23:14--  https://pages.cs.wisc.edu/~harter/cs544/data/arid2017_to_lei_xref_csv.zip\n",
      "Resolving pages.cs.wisc.edu (pages.cs.wisc.edu)... 128.105.7.9\n",
      "Connecting to pages.cs.wisc.edu (pages.cs.wisc.edu)|128.105.7.9|:443... connected.\n",
      "HTTP request sent, awaiting response... 200 OK\n",
      "Length: 144804 (141K) [application/zip]\n",
      "Saving to: ‘arid2017_to_lei_xref_csv.zip.1’\n",
      "\n",
      "arid2017_to_lei_xre 100%[===================>] 141.41K  --.-KB/s    in 0.09s   \n",
      "\n",
      "2023-11-11 05:23:15 (1.47 MB/s) - ‘arid2017_to_lei_xref_csv.zip.1’ saved [144804/144804]\n",
      "\n",
      "--2023-11-11 05:23:15--  https://pages.cs.wisc.edu/~harter/cs544/data/code_sheets.zip\n",
      "Resolving pages.cs.wisc.edu (pages.cs.wisc.edu)... 128.105.7.9\n",
      "Connecting to pages.cs.wisc.edu (pages.cs.wisc.edu)|128.105.7.9|:443... connected.\n",
      "HTTP request sent, awaiting response... 200 OK\n",
      "Length: 798030 (779K) [application/zip]\n",
      "Saving to: ‘code_sheets.zip.1’\n",
      "\n",
      "code_sheets.zip.1   100%[===================>] 779.33K  3.34MB/s    in 0.2s    \n",
      "\n",
      "2023-11-11 05:23:15 (3.34 MB/s) - ‘code_sheets.zip.1’ saved [798030/798030]\n",
      "\n",
      "Archive:  hdma-wi-2021.zip\n",
      "  inflating: data/hdma-wi-2021.csv   \n",
      "Archive:  arid2017_to_lei_xref_csv.zip\n",
      "  inflating: data/arid2017_to_lei_xref_csv.csv  \n",
      "Archive:  code_sheets.zip\n",
      "  inflating: data/action_taken.csv   \n",
      "  inflating: data/agency.csv         \n",
      "  inflating: data/counties.csv       \n",
      "  inflating: data/denial_reason.csv  \n",
      "  inflating: data/edit_status.csv    \n",
      "  inflating: data/ethnicity.csv      \n",
      "  inflating: data/hoepa.csv          \n",
      "  inflating: data/lien_status.csv    \n",
      "  inflating: data/loan_purpose.csv   \n",
      "  inflating: data/loan_type.csv      \n",
      "  inflating: data/msamd.csv          \n",
      "  inflating: data/owner_occupancy.csv  \n",
      "  inflating: data/preapproval.csv    \n",
      "  inflating: data/property_type.csv  \n",
      "  inflating: data/purchaser_type.csv  \n",
      "  inflating: data/race.csv           \n",
      "  inflating: data/sex.csv            \n",
      "  inflating: data/states.csv         \n",
      "  inflating: data/tracts.csv         \n"
     ]
    }
   ],
   "source": [
    "!rm -r data\n",
    "\n",
    "!wget https://pages.cs.wisc.edu/~harter/cs544/data/hdma-wi-2021.zip\n",
    "!wget https://pages.cs.wisc.edu/~harter/cs544/data/arid2017_to_lei_xref_csv.zip\n",
    "!wget https://pages.cs.wisc.edu/~harter/cs544/data/code_sheets.zip\n",
    "!mkdir -p nb/data\n",
    "!unzip -o hdma-wi-2021.zip -d data/\n",
    "!unzip -o arid2017_to_lei_xref_csv.zip -d data\n",
    "!unzip -o code_sheets.zip -d data"
   ]
  },
  {
   "cell_type": "code",
   "execution_count": 4,
   "id": "3ec9319e-503a-4211-b19a-8a152b436059",
   "metadata": {},
   "outputs": [],
   "source": [
    "!hdfs dfs -D dfs.replication=1 -cp -f data/*.csv hdfs://nn:9000/"
   ]
  },
  {
   "cell_type": "code",
   "execution_count": 5,
   "id": "1770834b-f880-4d0b-9dd1-8679e3d5273c",
   "metadata": {},
   "outputs": [
    {
     "name": "stderr",
     "output_type": "stream",
     "text": [
      "23/11/11 05:24:26 ERROR TaskSchedulerImpl: Lost executor 0 on 172.20.0.5: Command exited with code 134\n",
      "23/11/11 05:24:26 WARN TaskSetManager: Lost task 0.0 in stage 0.0 (TID 0) (172.20.0.5 executor 0): ExecutorLostFailure (executor 0 exited caused by one of the running tasks) Reason: Command exited with code 134\n",
      "                                                                                \r"
     ]
    },
    {
     "data": {
      "text/plain": [
       "525"
      ]
     },
     "execution_count": 5,
     "metadata": {},
     "output_type": "execute_result"
    }
   ],
   "source": [
    "#q1: how many banks contain the word \"first\" in their name, ignoring case? Use an RDD to answer. \n",
    "banks_df = spark.read.csv(\"hdfs://nn:9000/arid2017_to_lei_xref_csv.csv\", header=True, inferSchema=True)\n",
    "first = banks_df.rdd.filter(lambda row: \"first\" in row[\"respondent_name\"].lower()) \n",
    "first.count()"
   ]
  },
  {
   "cell_type": "code",
   "execution_count": 6,
   "id": "d8c60b43-f5a4-4751-986c-92a5a7af9991",
   "metadata": {},
   "outputs": [
    {
     "name": "stderr",
     "output_type": "stream",
     "text": [
      "                                                                                \r"
     ]
    },
    {
     "data": {
      "text/plain": [
       "525"
      ]
     },
     "execution_count": 6,
     "metadata": {},
     "output_type": "execute_result"
    }
   ],
   "source": [
    "#q2: how many banks contain the word \"first\" in their name, ignoring case? Use a DataFrame to answer.\n",
    "from pyspark.sql.functions import lower\n",
    "banks_df.filter(lower(banks_df[\"respondent_name\"]).contains(\"first\")).count()"
   ]
  },
  {
   "cell_type": "code",
   "execution_count": 7,
   "id": "48c19f98-3b9e-4155-9d1f-8ab82b392be0",
   "metadata": {},
   "outputs": [
    {
     "name": "stderr",
     "output_type": "stream",
     "text": [
      "23/11/11 05:25:13 WARN HiveConf: HiveConf of name hive.stats.jdbc.timeout does not exist\n",
      "23/11/11 05:25:13 WARN HiveConf: HiveConf of name hive.stats.retries.wait does not exist\n",
      "23/11/11 05:25:24 WARN ObjectStore: Version information not found in metastore. hive.metastore.schema.verification is not enabled so recording the schema version 2.3.0\n",
      "23/11/11 05:25:24 WARN ObjectStore: setMetaStoreSchemaVersion called but recording version is disabled: version = 2.3.0, comment = Set by MetaStore UNKNOWN@172.20.0.2\n",
      "23/11/11 05:25:27 WARN ObjectStore: Failed to get database global_temp, returning NoSuchObjectException\n",
      "23/11/11 05:25:29 WARN HadoopFSUtils: The directory hdfs://nn:9000/user/hive/warehouse/banks was not found. Was it deleted very recently?\n",
      "23/11/11 05:25:33 WARN FileUtils: File does not exist: hdfs://nn:9000/user/hive/warehouse/banks; Force to delete it.\n",
      "23/11/11 05:25:33 ERROR FileUtils: Failed to delete hdfs://nn:9000/user/hive/warehouse/banks\n",
      "23/11/11 05:25:41 WARN SessionState: METASTORE_FILTER_HOOK will be ignored, since hive.security.authorization.manager is set to instance of HiveAuthorizerFactory.\n",
      "23/11/11 05:25:41 WARN HiveConf: HiveConf of name hive.internal.ss.authz.settings.applied.marker does not exist\n",
      "23/11/11 05:25:41 WARN HiveConf: HiveConf of name hive.stats.jdbc.timeout does not exist\n",
      "23/11/11 05:25:41 WARN HiveConf: HiveConf of name hive.stats.retries.wait does not exist\n",
      "                                                                                \r"
     ]
    },
    {
     "data": {
      "text/plain": [
       "525"
      ]
     },
     "execution_count": 7,
     "metadata": {},
     "output_type": "execute_result"
    }
   ],
   "source": [
    "#q3: how many banks contain the word \"first\" in their name, ignoring case? Use Spark SQL to answer.\n",
    "banks_df.write.saveAsTable(\"banks\", mode=\"overwrite\")\n",
    "spark.sql(\"select count(*) as count_first from banks where respondent_name ilike '%first%'\").toPandas()[\"count_first\"][0]"
   ]
  },
  {
   "cell_type": "code",
   "execution_count": 8,
   "id": "15cee7f4-b4bc-47c5-a5f6-a794b2a5d76c",
   "metadata": {},
   "outputs": [
    {
     "name": "stderr",
     "output_type": "stream",
     "text": [
      "23/11/11 05:26:18 WARN HadoopFSUtils: The directory hdfs://nn:9000/user/hive/warehouse/loans was not found. Was it deleted very recently?\n",
      "23/11/11 05:26:18 WARN FileUtils: File does not exist: hdfs://nn:9000/user/hive/warehouse/loans; Force to delete it.\n",
      "23/11/11 05:26:18 ERROR FileUtils: Failed to delete hdfs://nn:9000/user/hive/warehouse/loans\n",
      "23/11/11 05:26:18 WARN SparkStringUtils: Truncated the string representation of a plan since it was too large. This behavior can be adjusted by setting 'spark.sql.debug.maxToStringFields'.\n",
      "                                                                                \r"
     ]
    },
    {
     "data": {
      "text/plain": [
       "{'banks': False,\n",
       " 'loans': False,\n",
       " 'action_taken': True,\n",
       " 'counties': True,\n",
       " 'denial_reason': True,\n",
       " 'ethnicity': True,\n",
       " 'loan_purpose': True,\n",
       " 'loan_type': True,\n",
       " 'preapproval': True,\n",
       " 'property_type': True,\n",
       " 'race': True,\n",
       " 'sex': True,\n",
       " 'states': True,\n",
       " 'tracts': True}"
      ]
     },
     "execution_count": 8,
     "metadata": {},
     "output_type": "execute_result"
    }
   ],
   "source": [
    "#q4: what tables are in our warehouse?\n",
    "loans_df = spark.read.csv(\"hdfs://nn:9000/hdma-wi-2021.csv\", header=True, inferSchema=True)\n",
    "loans_df.write.bucketBy(8, \"county_code\").saveAsTable(\"loans\", mode=\"overwrite\")\n",
    "\n",
    "names = [\"ethnicity\", \"race\", \"sex\", \"states\", \"counties\", \"tracts\", \"action_taken\",\n",
    " \"denial_reason\", \"loan_type\", \"loan_purpose\", \"preapproval\", \"property_type\"]\n",
    "for name in names:\n",
    "    df = spark.read.csv(\"hdfs://nn:9000/{}.csv\".format(name), header=True, inferSchema=True)\n",
    "    df.createOrReplaceTempView(name)\n",
    "tables = spark.sql(\"SHOW TABLES\").collect()\n",
    "q4 = {table[\"tableName\"]:table[\"isTemporary\"] for table in tables}\n",
    "q4"
   ]
  },
  {
   "cell_type": "code",
   "execution_count": 9,
   "id": "f67198dd-0a17-4b22-9ec5-4a055498a064",
   "metadata": {},
   "outputs": [
    {
     "name": "stderr",
     "output_type": "stream",
     "text": [
      "                                                                                \r"
     ]
    },
    {
     "data": {
      "text/plain": [
       "19739"
      ]
     },
     "execution_count": 9,
     "metadata": {},
     "output_type": "execute_result"
    }
   ],
   "source": [
    "#q5: how many loan applications has the bank \"University of Wisconsin Credit Union\" received in 2020 in this dataset?\n",
    "df = spark.sql(\"\"\"\n",
    "SELECT * \n",
    "FROM (\n",
    "SELECT banks.respondent_name, COUNT(*) as count \n",
    "FROM banks\n",
    "INNER JOIN loans ON loans.lei = banks.lei_2020\n",
    "GROUP BY banks.respondent_name\n",
    ")\n",
    "WHERE respondent_name = \"University of Wisconsin Credit Union\"\n",
    "\"\"\")\n",
    "df.toPandas()['count'][0]"
   ]
  },
  {
   "cell_type": "code",
   "execution_count": 10,
   "id": "506842bc-2486-4253-af61-2ad144a58b90",
   "metadata": {},
   "outputs": [
    {
     "name": "stdout",
     "output_type": "stream",
     "text": [
      "== Physical Plan ==\n",
      "AdaptiveSparkPlan (11)\n",
      "+- HashAggregate (10)\n",
      "   +- Exchange (9)\n",
      "      +- HashAggregate (8)\n",
      "         +- Project (7)\n",
      "            +- BroadcastHashJoin Inner BuildLeft (6)\n",
      "               :- BroadcastExchange (3)\n",
      "               :  +- Filter (2)\n",
      "               :     +- Scan parquet spark_catalog.default.banks (1)\n",
      "               +- Filter (5)\n",
      "                  +- Scan parquet spark_catalog.default.loans (4)\n",
      "\n",
      "\n",
      "(1) Scan parquet spark_catalog.default.banks\n",
      "Output [2]: [respondent_name#66, lei_2020#70]\n",
      "Batched: true\n",
      "Location: InMemoryFileIndex [hdfs://nn:9000/user/hive/warehouse/banks]\n",
      "PushedFilters: [IsNotNull(respondent_name), EqualTo(respondent_name,University of Wisconsin Credit Union), IsNotNull(lei_2020)]\n",
      "ReadSchema: struct<respondent_name:string,lei_2020:string>\n",
      "\n",
      "(2) Filter\n",
      "Input [2]: [respondent_name#66, lei_2020#70]\n",
      "Condition : ((isnotnull(respondent_name#66) AND (respondent_name#66 = University of Wisconsin Credit Union)) AND isnotnull(lei_2020#70))\n",
      "\n",
      "(3) BroadcastExchange\n",
      "Input [2]: [respondent_name#66, lei_2020#70]\n",
      "Arguments: HashedRelationBroadcastMode(List(input[1, string, false]),false), [plan_id=625]\n",
      "\n",
      "(4) Scan parquet spark_catalog.default.loans\n",
      "Output [1]: [lei#989]\n",
      "Batched: true\n",
      "Bucketed: false (bucket column(s) not read)\n",
      "Location: InMemoryFileIndex [hdfs://nn:9000/user/hive/warehouse/loans]\n",
      "PushedFilters: [IsNotNull(lei)]\n",
      "ReadSchema: struct<lei:string>\n",
      "\n",
      "(5) Filter\n",
      "Input [1]: [lei#989]\n",
      "Condition : isnotnull(lei#989)\n",
      "\n",
      "(6) BroadcastHashJoin\n",
      "Left keys [1]: [lei_2020#70]\n",
      "Right keys [1]: [lei#989]\n",
      "Join type: Inner\n",
      "Join condition: None\n",
      "\n",
      "(7) Project\n",
      "Output [1]: [respondent_name#66]\n",
      "Input [3]: [respondent_name#66, lei_2020#70, lei#989]\n",
      "\n",
      "(8) HashAggregate\n",
      "Input [1]: [respondent_name#66]\n",
      "Keys [1]: [respondent_name#66]\n",
      "Functions [1]: [partial_count(1)]\n",
      "Aggregate Attributes [1]: [count#1096L]\n",
      "Results [2]: [respondent_name#66, count#1097L]\n",
      "\n",
      "(9) Exchange\n",
      "Input [2]: [respondent_name#66, count#1097L]\n",
      "Arguments: hashpartitioning(respondent_name#66, 200), ENSURE_REQUIREMENTS, [plan_id=630]\n",
      "\n",
      "(10) HashAggregate\n",
      "Input [2]: [respondent_name#66, count#1097L]\n",
      "Keys [1]: [respondent_name#66]\n",
      "Functions [1]: [count(1)]\n",
      "Aggregate Attributes [1]: [count(1)#1093L]\n",
      "Results [2]: [respondent_name#66, count(1)#1093L AS count#1092L]\n",
      "\n",
      "(11) AdaptiveSparkPlan\n",
      "Output [2]: [respondent_name#66, count#1092L]\n",
      "Arguments: isFinalPlan=false\n",
      "\n",
      "\n"
     ]
    }
   ],
   "source": [
    "#q6: what does .explain(\"formatted\") tell us about how Spark executes Q5?\n",
    "exp = spark.sql(\"\"\"\n",
    "SELECT * \n",
    "FROM (\n",
    "SELECT banks.respondent_name, COUNT(*) as count \n",
    "FROM banks\n",
    "INNER JOIN loans ON loans.lei = banks.lei_2020\n",
    "GROUP BY banks.respondent_name\n",
    ")\n",
    "WHERE respondent_name = \"University of Wisconsin Credit Union\"\n",
    "\"\"\").explain(\"formatted\")\n",
    "\n",
    "# In BroadcastExchange, banks table is sent to every executor\n",
    "# Yes, the plan involves HashAggregates two times - count and partial_count "
   ]
  },
  {
   "cell_type": "code",
   "execution_count": 11,
   "id": "694c76fd-e06f-40dd-ab12-78ed76529d6a",
   "metadata": {},
   "outputs": [
    {
     "data": {
      "text/plain": [
       "DataFrame[]"
      ]
     },
     "execution_count": 11,
     "metadata": {},
     "output_type": "execute_result"
    }
   ],
   "source": [
    "# Assume loans have interest_rate column\n",
    "spark.sql(\"\"\"\n",
    "CREATE  OR REPLACE TEMPORARY VIEW loans_bank\n",
    "AS\n",
    "SELECT loans.*, banks.respondent_name \n",
    "FROM loans\n",
    "INNER JOIN banks ON loans.lei = banks.lei_2020\n",
    "\"\"\")"
   ]
  },
  {
   "cell_type": "code",
   "execution_count": 12,
   "id": "ee6c5493-73bc-4212-8f5f-2ddd529afd21",
   "metadata": {},
   "outputs": [
    {
     "name": "stderr",
     "output_type": "stream",
     "text": [
      "                                                                                \r"
     ]
    },
    {
     "data": {
      "text/html": [
       "<div>\n",
       "<style scoped>\n",
       "    .dataframe tbody tr th:only-of-type {\n",
       "        vertical-align: middle;\n",
       "    }\n",
       "\n",
       "    .dataframe tbody tr th {\n",
       "        vertical-align: top;\n",
       "    }\n",
       "\n",
       "    .dataframe thead th {\n",
       "        text-align: right;\n",
       "    }\n",
       "</style>\n",
       "<table border=\"1\" class=\"dataframe\">\n",
       "  <thead>\n",
       "    <tr style=\"text-align: right;\">\n",
       "      <th></th>\n",
       "      <th>activity_year</th>\n",
       "      <th>lei</th>\n",
       "      <th>derived_msa-md</th>\n",
       "      <th>state_code</th>\n",
       "      <th>county_code</th>\n",
       "      <th>census_tract</th>\n",
       "      <th>conforming_loan_limit</th>\n",
       "      <th>derived_loan_product_type</th>\n",
       "      <th>derived_dwelling_category</th>\n",
       "      <th>derived_ethnicity</th>\n",
       "      <th>...</th>\n",
       "      <th>denial_reason-3</th>\n",
       "      <th>denial_reason-4</th>\n",
       "      <th>tract_population</th>\n",
       "      <th>tract_minority_population_percent</th>\n",
       "      <th>ffiec_msa_md_median_family_income</th>\n",
       "      <th>tract_to_msa_income_percentage</th>\n",
       "      <th>tract_owner_occupied_units</th>\n",
       "      <th>tract_one_to_four_family_homes</th>\n",
       "      <th>tract_median_age_of_housing_units</th>\n",
       "      <th>respondent_name</th>\n",
       "    </tr>\n",
       "  </thead>\n",
       "  <tbody>\n",
       "    <tr>\n",
       "      <th>0</th>\n",
       "      <td>2021</td>\n",
       "      <td>KB1H1DSPRFMYMCUFXT09</td>\n",
       "      <td>33340</td>\n",
       "      <td>WI</td>\n",
       "      <td>55079</td>\n",
       "      <td>55079004100</td>\n",
       "      <td>C</td>\n",
       "      <td>VA:First Lien</td>\n",
       "      <td>Single Family (1-4 Units):Site-Built</td>\n",
       "      <td>Not Hispanic or Latino</td>\n",
       "      <td>...</td>\n",
       "      <td>NaN</td>\n",
       "      <td>NaN</td>\n",
       "      <td>2415</td>\n",
       "      <td>92.96</td>\n",
       "      <td>84400</td>\n",
       "      <td>58</td>\n",
       "      <td>434</td>\n",
       "      <td>1044</td>\n",
       "      <td>66</td>\n",
       "      <td>Wells Fargo Bank, National Association</td>\n",
       "    </tr>\n",
       "    <tr>\n",
       "      <th>1</th>\n",
       "      <td>2021</td>\n",
       "      <td>KB1H1DSPRFMYMCUFXT09</td>\n",
       "      <td>33340</td>\n",
       "      <td>WI</td>\n",
       "      <td>55079</td>\n",
       "      <td>55079140201</td>\n",
       "      <td>C</td>\n",
       "      <td>Conventional:First Lien</td>\n",
       "      <td>Single Family (1-4 Units):Site-Built</td>\n",
       "      <td>Not Hispanic or Latino</td>\n",
       "      <td>...</td>\n",
       "      <td>NaN</td>\n",
       "      <td>NaN</td>\n",
       "      <td>5130</td>\n",
       "      <td>14.27</td>\n",
       "      <td>84400</td>\n",
       "      <td>101</td>\n",
       "      <td>1427</td>\n",
       "      <td>1953</td>\n",
       "      <td>60</td>\n",
       "      <td>Wells Fargo Bank, National Association</td>\n",
       "    </tr>\n",
       "    <tr>\n",
       "      <th>2</th>\n",
       "      <td>2021</td>\n",
       "      <td>KB1H1DSPRFMYMCUFXT09</td>\n",
       "      <td>33340</td>\n",
       "      <td>WI</td>\n",
       "      <td>55079</td>\n",
       "      <td>55079185200</td>\n",
       "      <td>C</td>\n",
       "      <td>FHA:First Lien</td>\n",
       "      <td>Single Family (1-4 Units):Site-Built</td>\n",
       "      <td>Not Hispanic or Latino</td>\n",
       "      <td>...</td>\n",
       "      <td>NaN</td>\n",
       "      <td>NaN</td>\n",
       "      <td>5006</td>\n",
       "      <td>19.82</td>\n",
       "      <td>84400</td>\n",
       "      <td>92</td>\n",
       "      <td>1283</td>\n",
       "      <td>1697</td>\n",
       "      <td>58</td>\n",
       "      <td>Wells Fargo Bank, National Association</td>\n",
       "    </tr>\n",
       "    <tr>\n",
       "      <th>3</th>\n",
       "      <td>2021</td>\n",
       "      <td>KB1H1DSPRFMYMCUFXT09</td>\n",
       "      <td>33340</td>\n",
       "      <td>WI</td>\n",
       "      <td>55079</td>\n",
       "      <td>55079185200</td>\n",
       "      <td>C</td>\n",
       "      <td>FHA:First Lien</td>\n",
       "      <td>Single Family (1-4 Units):Site-Built</td>\n",
       "      <td>Not Hispanic or Latino</td>\n",
       "      <td>...</td>\n",
       "      <td>NaN</td>\n",
       "      <td>NaN</td>\n",
       "      <td>5006</td>\n",
       "      <td>19.82</td>\n",
       "      <td>84400</td>\n",
       "      <td>92</td>\n",
       "      <td>1283</td>\n",
       "      <td>1697</td>\n",
       "      <td>58</td>\n",
       "      <td>Wells Fargo Bank, National Association</td>\n",
       "    </tr>\n",
       "    <tr>\n",
       "      <th>4</th>\n",
       "      <td>2021</td>\n",
       "      <td>KB1H1DSPRFMYMCUFXT09</td>\n",
       "      <td>33340</td>\n",
       "      <td>WI</td>\n",
       "      <td>55079</td>\n",
       "      <td>55079019000</td>\n",
       "      <td>C</td>\n",
       "      <td>Conventional:First Lien</td>\n",
       "      <td>Single Family (1-4 Units):Site-Built</td>\n",
       "      <td>Hispanic or Latino</td>\n",
       "      <td>...</td>\n",
       "      <td>NaN</td>\n",
       "      <td>NaN</td>\n",
       "      <td>4867</td>\n",
       "      <td>31.50</td>\n",
       "      <td>84400</td>\n",
       "      <td>86</td>\n",
       "      <td>1316</td>\n",
       "      <td>1711</td>\n",
       "      <td>63</td>\n",
       "      <td>Wells Fargo Bank, National Association</td>\n",
       "    </tr>\n",
       "    <tr>\n",
       "      <th>5</th>\n",
       "      <td>2021</td>\n",
       "      <td>KB1H1DSPRFMYMCUFXT09</td>\n",
       "      <td>31540</td>\n",
       "      <td>WI</td>\n",
       "      <td>55025</td>\n",
       "      <td>55025002602</td>\n",
       "      <td>C</td>\n",
       "      <td>Conventional:First Lien</td>\n",
       "      <td>Single Family (1-4 Units):Site-Built</td>\n",
       "      <td>Hispanic or Latino</td>\n",
       "      <td>...</td>\n",
       "      <td>NaN</td>\n",
       "      <td>NaN</td>\n",
       "      <td>6082</td>\n",
       "      <td>35.14</td>\n",
       "      <td>99000</td>\n",
       "      <td>83</td>\n",
       "      <td>1073</td>\n",
       "      <td>1320</td>\n",
       "      <td>32</td>\n",
       "      <td>Wells Fargo Bank, National Association</td>\n",
       "    </tr>\n",
       "    <tr>\n",
       "      <th>6</th>\n",
       "      <td>2021</td>\n",
       "      <td>KB1H1DSPRFMYMCUFXT09</td>\n",
       "      <td>33340</td>\n",
       "      <td>WI</td>\n",
       "      <td>55079</td>\n",
       "      <td>55079140201</td>\n",
       "      <td>C</td>\n",
       "      <td>Conventional:First Lien</td>\n",
       "      <td>Single Family (1-4 Units):Site-Built</td>\n",
       "      <td>Not Hispanic or Latino</td>\n",
       "      <td>...</td>\n",
       "      <td>NaN</td>\n",
       "      <td>NaN</td>\n",
       "      <td>5130</td>\n",
       "      <td>14.27</td>\n",
       "      <td>84400</td>\n",
       "      <td>101</td>\n",
       "      <td>1427</td>\n",
       "      <td>1953</td>\n",
       "      <td>60</td>\n",
       "      <td>Wells Fargo Bank, National Association</td>\n",
       "    </tr>\n",
       "    <tr>\n",
       "      <th>7</th>\n",
       "      <td>2021</td>\n",
       "      <td>KB1H1DSPRFMYMCUFXT09</td>\n",
       "      <td>33340</td>\n",
       "      <td>WI</td>\n",
       "      <td>55079</td>\n",
       "      <td>55079006000</td>\n",
       "      <td>C</td>\n",
       "      <td>FHA:First Lien</td>\n",
       "      <td>Single Family (1-4 Units):Site-Built</td>\n",
       "      <td>Ethnicity Not Available</td>\n",
       "      <td>...</td>\n",
       "      <td>NaN</td>\n",
       "      <td>NaN</td>\n",
       "      <td>2699</td>\n",
       "      <td>95.48</td>\n",
       "      <td>84400</td>\n",
       "      <td>41</td>\n",
       "      <td>239</td>\n",
       "      <td>1035</td>\n",
       "      <td>76</td>\n",
       "      <td>Wells Fargo Bank, National Association</td>\n",
       "    </tr>\n",
       "    <tr>\n",
       "      <th>8</th>\n",
       "      <td>2021</td>\n",
       "      <td>KB1H1DSPRFMYMCUFXT09</td>\n",
       "      <td>99999</td>\n",
       "      <td>WI</td>\n",
       "      <td>55071</td>\n",
       "      <td>55071005200</td>\n",
       "      <td>C</td>\n",
       "      <td>FHA:First Lien</td>\n",
       "      <td>Single Family (1-4 Units):Site-Built</td>\n",
       "      <td>Ethnicity Not Available</td>\n",
       "      <td>...</td>\n",
       "      <td>NaN</td>\n",
       "      <td>NaN</td>\n",
       "      <td>4498</td>\n",
       "      <td>3.07</td>\n",
       "      <td>69600</td>\n",
       "      <td>104</td>\n",
       "      <td>1478</td>\n",
       "      <td>1903</td>\n",
       "      <td>52</td>\n",
       "      <td>Wells Fargo Bank, National Association</td>\n",
       "    </tr>\n",
       "    <tr>\n",
       "      <th>9</th>\n",
       "      <td>2021</td>\n",
       "      <td>KB1H1DSPRFMYMCUFXT09</td>\n",
       "      <td>99999</td>\n",
       "      <td>WI</td>\n",
       "      <td>55071</td>\n",
       "      <td>55071000500</td>\n",
       "      <td>C</td>\n",
       "      <td>VA:First Lien</td>\n",
       "      <td>Single Family (1-4 Units):Site-Built</td>\n",
       "      <td>Ethnicity Not Available</td>\n",
       "      <td>...</td>\n",
       "      <td>NaN</td>\n",
       "      <td>NaN</td>\n",
       "      <td>2650</td>\n",
       "      <td>23.96</td>\n",
       "      <td>69600</td>\n",
       "      <td>70</td>\n",
       "      <td>715</td>\n",
       "      <td>1277</td>\n",
       "      <td>76</td>\n",
       "      <td>Wells Fargo Bank, National Association</td>\n",
       "    </tr>\n",
       "  </tbody>\n",
       "</table>\n",
       "<p>10 rows × 100 columns</p>\n",
       "</div>"
      ],
      "text/plain": [
       "   activity_year                   lei  derived_msa-md state_code county_code  \\\n",
       "0           2021  KB1H1DSPRFMYMCUFXT09           33340         WI       55079   \n",
       "1           2021  KB1H1DSPRFMYMCUFXT09           33340         WI       55079   \n",
       "2           2021  KB1H1DSPRFMYMCUFXT09           33340         WI       55079   \n",
       "3           2021  KB1H1DSPRFMYMCUFXT09           33340         WI       55079   \n",
       "4           2021  KB1H1DSPRFMYMCUFXT09           33340         WI       55079   \n",
       "5           2021  KB1H1DSPRFMYMCUFXT09           31540         WI       55025   \n",
       "6           2021  KB1H1DSPRFMYMCUFXT09           33340         WI       55079   \n",
       "7           2021  KB1H1DSPRFMYMCUFXT09           33340         WI       55079   \n",
       "8           2021  KB1H1DSPRFMYMCUFXT09           99999         WI       55071   \n",
       "9           2021  KB1H1DSPRFMYMCUFXT09           99999         WI       55071   \n",
       "\n",
       "  census_tract conforming_loan_limit derived_loan_product_type  \\\n",
       "0  55079004100                     C             VA:First Lien   \n",
       "1  55079140201                     C   Conventional:First Lien   \n",
       "2  55079185200                     C            FHA:First Lien   \n",
       "3  55079185200                     C            FHA:First Lien   \n",
       "4  55079019000                     C   Conventional:First Lien   \n",
       "5  55025002602                     C   Conventional:First Lien   \n",
       "6  55079140201                     C   Conventional:First Lien   \n",
       "7  55079006000                     C            FHA:First Lien   \n",
       "8  55071005200                     C            FHA:First Lien   \n",
       "9  55071000500                     C             VA:First Lien   \n",
       "\n",
       "              derived_dwelling_category        derived_ethnicity  ...  \\\n",
       "0  Single Family (1-4 Units):Site-Built   Not Hispanic or Latino  ...   \n",
       "1  Single Family (1-4 Units):Site-Built   Not Hispanic or Latino  ...   \n",
       "2  Single Family (1-4 Units):Site-Built   Not Hispanic or Latino  ...   \n",
       "3  Single Family (1-4 Units):Site-Built   Not Hispanic or Latino  ...   \n",
       "4  Single Family (1-4 Units):Site-Built       Hispanic or Latino  ...   \n",
       "5  Single Family (1-4 Units):Site-Built       Hispanic or Latino  ...   \n",
       "6  Single Family (1-4 Units):Site-Built   Not Hispanic or Latino  ...   \n",
       "7  Single Family (1-4 Units):Site-Built  Ethnicity Not Available  ...   \n",
       "8  Single Family (1-4 Units):Site-Built  Ethnicity Not Available  ...   \n",
       "9  Single Family (1-4 Units):Site-Built  Ethnicity Not Available  ...   \n",
       "\n",
       "  denial_reason-3 denial_reason-4  tract_population  \\\n",
       "0             NaN             NaN              2415   \n",
       "1             NaN             NaN              5130   \n",
       "2             NaN             NaN              5006   \n",
       "3             NaN             NaN              5006   \n",
       "4             NaN             NaN              4867   \n",
       "5             NaN             NaN              6082   \n",
       "6             NaN             NaN              5130   \n",
       "7             NaN             NaN              2699   \n",
       "8             NaN             NaN              4498   \n",
       "9             NaN             NaN              2650   \n",
       "\n",
       "   tract_minority_population_percent  ffiec_msa_md_median_family_income  \\\n",
       "0                              92.96                              84400   \n",
       "1                              14.27                              84400   \n",
       "2                              19.82                              84400   \n",
       "3                              19.82                              84400   \n",
       "4                              31.50                              84400   \n",
       "5                              35.14                              99000   \n",
       "6                              14.27                              84400   \n",
       "7                              95.48                              84400   \n",
       "8                               3.07                              69600   \n",
       "9                              23.96                              69600   \n",
       "\n",
       "   tract_to_msa_income_percentage  tract_owner_occupied_units  \\\n",
       "0                              58                         434   \n",
       "1                             101                        1427   \n",
       "2                              92                        1283   \n",
       "3                              92                        1283   \n",
       "4                              86                        1316   \n",
       "5                              83                        1073   \n",
       "6                             101                        1427   \n",
       "7                              41                         239   \n",
       "8                             104                        1478   \n",
       "9                              70                         715   \n",
       "\n",
       "   tract_one_to_four_family_homes  tract_median_age_of_housing_units  \\\n",
       "0                            1044                                 66   \n",
       "1                            1953                                 60   \n",
       "2                            1697                                 58   \n",
       "3                            1697                                 58   \n",
       "4                            1711                                 63   \n",
       "5                            1320                                 32   \n",
       "6                            1953                                 60   \n",
       "7                            1035                                 76   \n",
       "8                            1903                                 52   \n",
       "9                            1277                                 76   \n",
       "\n",
       "                          respondent_name  \n",
       "0  Wells Fargo Bank, National Association  \n",
       "1  Wells Fargo Bank, National Association  \n",
       "2  Wells Fargo Bank, National Association  \n",
       "3  Wells Fargo Bank, National Association  \n",
       "4  Wells Fargo Bank, National Association  \n",
       "5  Wells Fargo Bank, National Association  \n",
       "6  Wells Fargo Bank, National Association  \n",
       "7  Wells Fargo Bank, National Association  \n",
       "8  Wells Fargo Bank, National Association  \n",
       "9  Wells Fargo Bank, National Association  \n",
       "\n",
       "[10 rows x 100 columns]"
      ]
     },
     "execution_count": 12,
     "metadata": {},
     "output_type": "execute_result"
    }
   ],
   "source": [
    "spark.sql(\"\"\"\n",
    "SELECT * FROM loans_bank\n",
    "WHERE respondent_name LIKE '%Fargo%'\n",
    "\"\"\").limit(10).toPandas()"
   ]
  },
  {
   "cell_type": "code",
   "execution_count": 13,
   "id": "bcad372b-3123-4438-ab47-f2d05c72aa31",
   "metadata": {},
   "outputs": [
    {
     "name": "stderr",
     "output_type": "stream",
     "text": [
      "                                                                                \r"
     ]
    },
    {
     "data": {
      "text/html": [
       "<div>\n",
       "<style scoped>\n",
       "    .dataframe tbody tr th:only-of-type {\n",
       "        vertical-align: middle;\n",
       "    }\n",
       "\n",
       "    .dataframe tbody tr th {\n",
       "        vertical-align: top;\n",
       "    }\n",
       "\n",
       "    .dataframe thead th {\n",
       "        text-align: right;\n",
       "    }\n",
       "</style>\n",
       "<table border=\"1\" class=\"dataframe\">\n",
       "  <thead>\n",
       "    <tr style=\"text-align: right;\">\n",
       "      <th></th>\n",
       "      <th>county_code</th>\n",
       "      <th>num_applications</th>\n",
       "      <th>avg_interest_rate</th>\n",
       "    </tr>\n",
       "  </thead>\n",
       "  <tbody>\n",
       "    <tr>\n",
       "      <th>0</th>\n",
       "      <td>55079</td>\n",
       "      <td>2164</td>\n",
       "      <td>3.117347</td>\n",
       "    </tr>\n",
       "    <tr>\n",
       "      <th>1</th>\n",
       "      <td>55133</td>\n",
       "      <td>1832</td>\n",
       "      <td>2.875823</td>\n",
       "    </tr>\n",
       "    <tr>\n",
       "      <th>2</th>\n",
       "      <td>55131</td>\n",
       "      <td>748</td>\n",
       "      <td>2.851009</td>\n",
       "    </tr>\n",
       "    <tr>\n",
       "      <th>3</th>\n",
       "      <td>55025</td>\n",
       "      <td>729</td>\n",
       "      <td>2.890675</td>\n",
       "    </tr>\n",
       "    <tr>\n",
       "      <th>4</th>\n",
       "      <td>55009</td>\n",
       "      <td>663</td>\n",
       "      <td>3.010949</td>\n",
       "    </tr>\n",
       "    <tr>\n",
       "      <th>5</th>\n",
       "      <td>55101</td>\n",
       "      <td>537</td>\n",
       "      <td>3.099784</td>\n",
       "    </tr>\n",
       "    <tr>\n",
       "      <th>6</th>\n",
       "      <td>55087</td>\n",
       "      <td>513</td>\n",
       "      <td>2.979662</td>\n",
       "    </tr>\n",
       "    <tr>\n",
       "      <th>7</th>\n",
       "      <td>55139</td>\n",
       "      <td>402</td>\n",
       "      <td>3.028476</td>\n",
       "    </tr>\n",
       "    <tr>\n",
       "      <th>8</th>\n",
       "      <td>55089</td>\n",
       "      <td>389</td>\n",
       "      <td>2.867377</td>\n",
       "    </tr>\n",
       "    <tr>\n",
       "      <th>9</th>\n",
       "      <td>55117</td>\n",
       "      <td>307</td>\n",
       "      <td>2.995511</td>\n",
       "    </tr>\n",
       "  </tbody>\n",
       "</table>\n",
       "</div>"
      ],
      "text/plain": [
       "  county_code  num_applications  avg_interest_rate\n",
       "0       55079              2164           3.117347\n",
       "1       55133              1832           2.875823\n",
       "2       55131               748           2.851009\n",
       "3       55025               729           2.890675\n",
       "4       55009               663           3.010949\n",
       "5       55101               537           3.099784\n",
       "6       55087               513           2.979662\n",
       "7       55139               402           3.028476\n",
       "8       55089               389           2.867377\n",
       "9       55117               307           2.995511"
      ]
     },
     "execution_count": 13,
     "metadata": {},
     "output_type": "execute_result"
    }
   ],
   "source": [
    "spark.sql(\"\"\"\n",
    "CREATE OR REPLACE TEMPORARY VIEW top_10_counties\n",
    "AS\n",
    "SELECT county_code, COUNT(*) AS num_applications, AVG(interest_rate) AS avg_interest_rate\n",
    "FROM loans_bank\n",
    "WHERE respondent_name LIKE 'Wells Fargo%'\n",
    "GROUP BY county_code\n",
    "ORDER BY num_applications DESC\n",
    "LIMIT 10;\n",
    "\"\"\")\n",
    "\n",
    "spark.sql(\"\"\"\n",
    "SELECT * FROM top_10_counties\n",
    "\"\"\").toPandas()"
   ]
  },
  {
   "cell_type": "code",
   "execution_count": 14,
   "id": "ef20331c-6b1f-4b3e-ac05-d97b4eda3d5e",
   "metadata": {},
   "outputs": [],
   "source": [
    "counties_int = spark.sql(\"\"\"\n",
    "SELECT NAME, avg_interest_rate\n",
    "FROM\n",
    "(SELECT counties.NAME, top_10_counties.avg_interest_rate, top_10_counties.num_applications\n",
    "FROM top_10_counties\n",
    "JOIN counties ON top_10_counties.county_code = counties.STATE * 1000 + counties.COUNTY)\n",
    "ORDER BY num_applications DESC\n",
    "\"\"\")"
   ]
  },
  {
   "cell_type": "code",
   "execution_count": 15,
   "id": "fbee3512-ea15-486e-9fe0-a93f4a84962d",
   "metadata": {},
   "outputs": [
    {
     "name": "stderr",
     "output_type": "stream",
     "text": [
      "                                                                                \r"
     ]
    },
    {
     "data": {
      "text/plain": [
       "{'Milwaukee': 3.1173465727097907,\n",
       " 'Waukesha': 2.8758225602027756,\n",
       " 'Washington': 2.851009389671362,\n",
       " 'Dane': 2.890674955595027,\n",
       " 'Brown': 3.010949119373777,\n",
       " 'Racine': 3.099783715012723,\n",
       " 'Outagamie': 2.979661835748792,\n",
       " 'Winnebago': 3.0284761904761908,\n",
       " 'Ozaukee': 2.8673765432098772,\n",
       " 'Sheboygan': 2.995511111111111}"
      ]
     },
     "execution_count": 15,
     "metadata": {},
     "output_type": "execute_result"
    }
   ],
   "source": [
    "#q7: what are the average interest rates for Wells Fargo applications for the ten counties where Wells Fargo receives the most applications?\n",
    "counties_int.toPandas()\n",
    "counties_int_dict = counties_int.rdd.map(lambda row: (row.NAME, row.avg_interest_rate)).collectAsMap()\n",
    "counties_int_dict"
   ]
  },
  {
   "cell_type": "code",
   "execution_count": 16,
   "id": "7ed2f6c4-c12d-40ea-a730-43f4ceeea9b2",
   "metadata": {},
   "outputs": [
    {
     "data": {
      "image/png": "[encoded data removed]",
      "text/plain": [
       "<Figure size 640x480 with 1 Axes>"
      ]
     },
     "metadata": {},
     "output_type": "display_data"
    }
   ],
   "source": [
    "import matplotlib.pyplot as plt\n",
    "\n",
    "plt.bar(range(1, 11), counties_int.toPandas()['avg_interest_rate'])\n",
    "plt.xticks(range(1, 11), counties_int.toPandas()['NAME'].values, rotation=90)\n",
    "plt.xlabel('name')\n",
    "plt.ylabel('Average Interest Rate')\n",
    "plt.show()"
   ]
  },
  {
   "cell_type": "code",
   "execution_count": 17,
   "id": "7a09f693-8ae9-4322-a71a-60ac8d9c5d3e",
   "metadata": {},
   "outputs": [
    {
     "name": "stdout",
     "output_type": "stream",
     "text": [
      "== Physical Plan ==\n",
      "AdaptiveSparkPlan isFinalPlan=false\n",
      "+- HashAggregate(keys=[county_code#992], functions=[mean(tract_median_age_of_housing_units#1086), count(1)])\n",
      "   +- HashAggregate(keys=[county_code#992], functions=[partial_mean(tract_median_age_of_housing_units#1086), partial_count(1)])\n",
      "      +- FileScan parquet spark_catalog.default.loans[county_code#992,tract_median_age_of_housing_units#1086] Batched: true, Bucketed: true, DataFilters: [], Format: Parquet, Location: InMemoryFileIndex(1 paths)[hdfs://nn:9000/user/hive/warehouse/loans], PartitionFilters: [], PushedFilters: [], ReadSchema: struct<county_code:string,tract_median_age_of_housing_units:int>, SelectedBucketsCount: 8 out of 8\n",
      "\n",
      "\n",
      "== Physical Plan ==\n",
      "AdaptiveSparkPlan isFinalPlan=false\n",
      "+- HashAggregate(keys=[lei#989], functions=[mean(tract_median_age_of_housing_units#1086), count(1)])\n",
      "   +- Exchange hashpartitioning(lei#989, 200), ENSURE_REQUIREMENTS, [plan_id=1213]\n",
      "      +- HashAggregate(keys=[lei#989], functions=[partial_mean(tract_median_age_of_housing_units#1086), partial_count(1)])\n",
      "         +- FileScan parquet spark_catalog.default.loans[lei#989,tract_median_age_of_housing_units#1086] Batched: true, Bucketed: false (bucket column(s) not read), DataFilters: [], Format: Parquet, Location: InMemoryFileIndex(1 paths)[hdfs://nn:9000/user/hive/warehouse/loans], PartitionFilters: [], PushedFilters: [], ReadSchema: struct<lei:string,tract_median_age_of_housing_units:int>\n",
      "\n",
      "\n"
     ]
    }
   ],
   "source": [
    "#q8: when computing a MEAN aggregate per group of loans, under what situation (when) do we require network I/O between the partial_mean and mean operations?\n",
    "spark.sql(\"\"\"\n",
    "SELECT county_code, MEAN(tract_median_age_of_housing_units), COUNT(*) as count\n",
    "FROM loans\n",
    "GROUP BY county_code \n",
    "\"\"\").explain()\n",
    "\n",
    "spark.sql(\"\"\"\n",
    "SELECT lei, MEAN(tract_median_age_of_housing_units), COUNT(*) as count\n",
    "FROM loans\n",
    "GROUP BY lei \n",
    "\"\"\").explain()\n",
    "\n",
    "# We bucketed loans table with county_code. So, when grouping by county_code no network i/o happens. However, when grouping by other colums\n",
    "# such as lei, network io can happen. This is evident in the presence of 'Exchange hashpartitioning' in lei group_by explain() output,\n",
    "# and it is absent in county_code explain output. "
   ]
  },
  {
   "cell_type": "code",
   "execution_count": 18,
   "id": "f705d15c-6035-4206-b18f-0e63474f0551",
   "metadata": {},
   "outputs": [
    {
     "name": "stderr",
     "output_type": "stream",
     "text": [
      "                                                                                \r"
     ]
    },
    {
     "data": {
      "text/plain": [
       "242868"
      ]
     },
     "execution_count": 18,
     "metadata": {},
     "output_type": "execute_result"
    }
   ],
   "source": [
    "#q9: How many loans are approved (approval = 1) in the train DataFrame?\n",
    "from pyspark.sql.types import DoubleType\n",
    "from pyspark.sql.functions import when, lit\n",
    "df = spark.sql(\"select loan_amount, income, interest_rate, action_taken as approval from loans\")\n",
    "\n",
    "df = df.withColumn('approval', df.approval==1)\n",
    "columns_to_cast = [\"approval\", \"income\", \"interest_rate\"]\n",
    "for column in columns_to_cast:\n",
    "    df = df.withColumn(column, df[column].cast(DoubleType()))\n",
    "df = df.fillna(0)\n",
    "train, test = df.randomSplit([0.8, 0.2], seed=41) \n",
    "train.rdd.cache()\n",
    "train[train['approval']==1].count()"
   ]
  },
  {
   "cell_type": "code",
   "execution_count": 19,
   "id": "2d909737-c388-47c7-9fc9-e83eaa572791",
   "metadata": {},
   "outputs": [
    {
     "name": "stderr",
     "output_type": "stream",
     "text": [
      "                                                                                \r"
     ]
    },
    {
     "data": {
      "text/plain": [
       "0.8939992653524639"
      ]
     },
     "execution_count": 19,
     "metadata": {},
     "output_type": "execute_result"
    }
   ],
   "source": [
    "#q10: What is the accuracy of the decision tree classifier of depth 5 on the test dataset?\n",
    "from pyspark.ml.feature import VectorAssembler\n",
    "from pyspark.ml.classification import DecisionTreeClassifier\n",
    "from pyspark.ml.pipeline import Pipeline, PipelineModel\n",
    "\n",
    "# pipeline\n",
    "va = VectorAssembler(inputCols=[\"loan_amount\", \"income\", \"interest_rate\"], outputCol=\"features\")\n",
    "dt = DecisionTreeClassifier(featuresCol=\"features\", labelCol=\"approval\", maxDepth=5)\n",
    "pipe = Pipeline(stages=[va, dt])\n",
    "\n",
    "# training\n",
    "model = pipe.fit(train)\n",
    "model.write().overwrite().save(\"hdfs://nn:9000/model\")\n",
    "\n",
    "# testing\n",
    "model = PipelineModel.load(\"hdfs://nn:9000/model\")\n",
    "# print('depth', model.stages[1].depth)\n",
    "preds = model.transform(test)\n",
    "acc = preds[preds['approval']==preds['prediction']].count() / preds.count()\n",
    "acc"
   ]
  }
 ],
 "metadata": {
  "kernelspec": {
   "display_name": "Python 3 (ipykernel)",
   "language": "python",
   "name": "python3"
  },
  "language_info": {
   "codemirror_mode": {
    "name": "ipython",
    "version": 3
   },
   "file_extension": ".py",
   "mimetype": "text/x-python",
   "name": "python",
   "nbconvert_exporter": "python",
   "pygments_lexer": "ipython3",
   "version": "3.10.12"
  }
 },
 "nbformat": 4,
 "nbformat_minor": 5
}
